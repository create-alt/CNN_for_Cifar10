{
  "cells": [
    {
      "cell_type": "markdown",
      "metadata": {
        "id": "view-in-github",
        "colab_type": "text"
      },
      "source": [
        "<a href=\"https://colab.research.google.com/github/create-alt/CNN_for_Cifar10/blob/main/CNN_for_Cifar10.ipynb\" target=\"_parent\"><img src=\"https://colab.research.google.com/assets/colab-badge.svg\" alt=\"Open In Colab\"/></a>"
      ]
    },
    {
      "cell_type": "markdown",
      "source": [
        "# **CNNによるCifar-10分類**"
      ],
      "metadata": {
        "id": "Ou2DXcx1Id9x"
      }
    },
    {
      "cell_type": "markdown",
      "source": [
        "環境：<br>\n",
        "Google Colaboratory<br>\n",
        "T4 GPU<br>\n",
        "必要ライブラリ等はコード内で記述"
      ],
      "metadata": {
        "id": "EZsmI5kENpKH"
      }
    },
    {
      "cell_type": "markdown",
      "source": [
        "# GPU確認とGoogleDrive接続"
      ],
      "metadata": {
        "id": "o1sDTBx6w62m"
      }
    },
    {
      "cell_type": "markdown",
      "source": [
        "モデルの学習時にGPUが必要となるので接続を確認しておく。"
      ],
      "metadata": {
        "id": "ulxbT30IBsip"
      }
    },
    {
      "cell_type": "code",
      "source": [
        "from tensorflow.python.client import device_lib\n",
        "device_lib.list_local_devices()"
      ],
      "metadata": {
        "colab": {
          "base_uri": "https://localhost:8080/"
        },
        "id": "GgbJf2hIei19",
        "outputId": "25951dc4-9b1d-4e8a-a1c5-e24b167d54b1"
      },
      "execution_count": null,
      "outputs": [
        {
          "output_type": "execute_result",
          "data": {
            "text/plain": [
              "[name: \"/device:CPU:0\"\n",
              " device_type: \"CPU\"\n",
              " memory_limit: 268435456\n",
              " locality {\n",
              " }\n",
              " incarnation: 17494351412806949153\n",
              " xla_global_id: -1,\n",
              " name: \"/device:GPU:0\"\n",
              " device_type: \"GPU\"\n",
              " memory_limit: 14626652160\n",
              " locality {\n",
              "   bus_id: 1\n",
              "   links {\n",
              "   }\n",
              " }\n",
              " incarnation: 15213497942736662699\n",
              " physical_device_desc: \"device: 0, name: Tesla T4, pci bus id: 0000:00:04.0, compute capability: 7.5\"\n",
              " xla_global_id: 416903419]"
            ]
          },
          "metadata": {},
          "execution_count": 1
        }
      ]
    },
    {
      "cell_type": "markdown",
      "source": [
        "学習した結果の重みをGoogleDriveに保存するため接続しておく。"
      ],
      "metadata": {
        "id": "S1k0llkhB2ex"
      }
    },
    {
      "cell_type": "code",
      "source": [
        "from google.colab import drive\n",
        "drive.mount('/content/drive')"
      ],
      "metadata": {
        "id": "0QzkisElItVW",
        "colab": {
          "base_uri": "https://localhost:8080/"
        },
        "outputId": "b1d89be1-e97f-4ed2-f737-39574e59885e"
      },
      "execution_count": null,
      "outputs": [
        {
          "output_type": "stream",
          "name": "stdout",
          "text": [
            "Mounted at /content/drive\n"
          ]
        }
      ]
    },
    {
      "cell_type": "code",
      "source": [
        "cd {\"/content/drive/MyDrive/重みを格納するフォルダ\"}"
      ],
      "metadata": {
        "colab": {
          "base_uri": "https://localhost:8080/"
        },
        "id": "Jalg-SXuWY1O",
        "outputId": "7c23c96f-c824-41ae-e640-c12d17c20538"
      },
      "execution_count": null,
      "outputs": [
        {
          "output_type": "stream",
          "name": "stdout",
          "text": [
            "/content/drive/MyDrive/AI実践_cifar10\n"
          ]
        }
      ]
    },
    {
      "cell_type": "markdown",
      "source": [
        "# ライブラリのimportと定数・関数定義"
      ],
      "metadata": {
        "id": "OBzfBQjgw0u5"
      }
    },
    {
      "cell_type": "code",
      "execution_count": null,
      "metadata": {
        "id": "r8aFTxZIdvSk"
      },
      "outputs": [],
      "source": [
        "import numpy as np\n",
        "import matplotlib\n",
        "import matplotlib.pyplot as plt\n",
        "import pandas as pd\n",
        "from skimage import io\n",
        "from sklearn.model_selection import StratifiedKFold\n",
        "import os\n",
        "import cv2\n",
        "import gc\n",
        "\n",
        "import keras\n",
        "import tensorflow as tf\n",
        "from keras import backend as K\n",
        "from keras.preprocessing.image import ImageDataGenerator,array_to_img,img_to_array\n",
        "from keras.datasets import cifar10\n",
        "from keras.models import Sequential\n",
        "from keras.layers import Dense, Dropout, Flatten\n",
        "from keras.layers import BatchNormalization\n",
        "from keras.layers import Conv2D, Conv3D, MaxPooling2D, MaxPooling3D, AveragePooling2D, AveragePooling3D\n",
        "\n",
        "label_dict = {0:\"飛行機\", 1:\"自動車\", 2:\"鳥\", 3:\"猫\", 4:\"鹿\", 5:\"犬\", 6:\"カエル\", 7:\"馬\", 8:\"船\", 9:\"トラック\"} #label定義\n",
        "\n",
        "#定数定義（class作成時にまとめられる）\n",
        "NUM_CLASSES = 10\n",
        "SEED=0"
      ]
    },
    {
      "cell_type": "code",
      "execution_count": null,
      "metadata": {
        "id": "E2YxLRPWdvSs"
      },
      "outputs": [],
      "source": [
        "#データを読み込む\n",
        "def load():\n",
        "  (X_train,y_train),(X_test,y_test) = cifar10.load_data()\n",
        "  print(\"default X_train's shape is\",X_train.shape)\n",
        "  print(\"default y_train's shape is\",y_train.shape,\"\\n\")\n",
        "\n",
        "  # 入力データ[0, 1]の範囲に正規化\n",
        "  X_train = X_train.astype('float32')\n",
        "  X_test = X_test.astype('float32')\n",
        "  # 255で割ったものを新たに変数とする->画素の最大が255なので、255で割ると[0, 1]になる\n",
        "  X_train /= 255\n",
        "  X_test /= 255\n",
        "\n",
        "  #以下データ拡張\n",
        "\n",
        "  #seed値固定\n",
        "  tf.random.set_seed(SEED)\n",
        "\n",
        "  params = {\"zoom_range\" : 0.3,\n",
        "          \"horizontal_flip\" : True,\n",
        "          \"rotation_range\" : 30,\n",
        "          \"height_shift_range\": 0.1,\n",
        "          \"width_shift_range\": 0.1,\n",
        "          \"channel_shift_range\": 0.3}\n",
        "\n",
        "  #データ拡張用オブジェクトの定義\n",
        "  data_generator = keras.preprocessing.image.ImageDataGenerator(**params)\n",
        "\n",
        "  # 同じ画像を複製する\n",
        "  train_aug = X_train.copy()\n",
        "  train_aug = np.concatenate([train_aug,train_aug])\n",
        "\n",
        "  y_aug = np.concatenate([y_train,y_train])\n",
        "\n",
        "  #データ拡張\n",
        "  generator = data_generator.flow(train_aug, y_aug, batch_size=100000)\n",
        "\n",
        "  # 変換後のデータを取得\n",
        "  batch_x = generator.next()\n",
        "\n",
        "  X_train = np.concatenate([X_train,batch_x[0]])\n",
        "  y_train = np.concatenate([y_train,batch_x[1]])\n",
        "\n",
        "  print(X_train.shape)\n",
        "\n",
        "  return (X_train,y_train),(X_test,y_test)\n",
        "\n",
        "#plot用関数(教材から引用)\n",
        "def plot_history_of_model(model):\n",
        "    # 学習をグラフ化（正解率）\n",
        "    print(model.history.history)\n",
        "    acc = model.history.history['accuracy']\n",
        "    val_acc = model.history.history['val_accuracy']\n",
        "\n",
        "    # Accuracy Plot\n",
        "    plt.plot(acc)\n",
        "    plt.plot(val_acc)\n",
        "    plt.ylim(0.0,1.0)\n",
        "    plt.title('Accuracy')\n",
        "    plt.legend(['train', 'valid'], loc='upper left')\n",
        "    plt.show()\n",
        "\n",
        "    # Loss Plot\n",
        "    loss = model.history.history['loss']\n",
        "    val_loss = model.history.history['val_loss']\n",
        "    plt.plot(loss ,label = 'training loss')\n",
        "    plt.plot(val_loss, label= 'validation loss')\n",
        "    #plt.ylim(0,3)\n",
        "    plt.title('Training and Validation loss')\n",
        "    plt.legend()\n",
        "    plt.show()\n",
        "\n",
        "#checkpointの設定\n",
        "def create_checkpoint(path):\n",
        "  #path(TensorFlow公式サイトより引用 https://www.tensorflow.org/tutorials/keras/save_and_load?hl=ja)\n",
        "\n",
        "  #重みの格納場所(公式サイトでは.ckptを使用していたが安全性の面から.safetensorsを使用)\n",
        "  checkpoint_path = \"Weight_of_model/\" + path + \".safetensors\"\n",
        "  checkpoint_dir = os.path.dirname(checkpoint_path)\n",
        "\n",
        "  cp_callback = tf.keras.callbacks.ModelCheckpoint(filepath=checkpoint_path,\n",
        "                                                  save_weights_only=True,\n",
        "                                                  verbose=1)\n",
        "\n",
        "  return checkpoint_path,cp_callback\n",
        "\n",
        "#3次元データ用のニューラルネットワーク\n",
        "def create_3Dmodel():\n",
        "  #seed値固定\n",
        "  tf.random.set_seed(SEED)\n",
        "  # マスクを適応したカラー画像に関するモデル\n",
        "  model = Sequential()\n",
        "\n",
        "  model.add(Conv3D(64, kernel_size=(3, 3, 1),\n",
        "                                padding=\"SAME\",\n",
        "                                activation='relu'))\n",
        "  model.add(Dropout(0.3))\n",
        "  model.add(Conv3D(64, (3, 3, 1), padding=\"SAME\",activation='relu'))\n",
        "  model.add(MaxPooling3D(pool_size=(3, 3, 1))) # max pooling layer\n",
        "  model.add(BatchNormalization())\n",
        "  model.add(Dropout(0.3))\n",
        "\n",
        "  model.add(Conv3D(128, (3, 3, 1), padding=\"SAME\" ,activation='relu'))\n",
        "  model.add(Dropout(0.3))\n",
        "  model.add(Conv3D(128, (3, 3, 1), padding=\"SAME\" ,activation='relu'))\n",
        "  model.add(MaxPooling3D(pool_size=(3, 3, 1))) # max pooling layer\n",
        "  model.add(Dropout(0.3))\n",
        "\n",
        "  model.add(Flatten())\n",
        "\n",
        "  model.add(Dense(256, activation='relu')) # 全結合層\n",
        "  model.add(Dense(NUM_CLASSES, activation='softmax')) #classごとに確率を出力\n",
        "\n",
        "  # 損失関数,最適化関数,評価指標を指定してモデルをコンパイル->学習できる形にする\n",
        "  model.compile(loss=keras.losses.categorical_crossentropy,\n",
        "          #optimizer=keras.optimizers.Adadelta(),\n",
        "          optimizer=tf.keras.optimizers.Adam(),\n",
        "          metrics=['accuracy'])\n",
        "\n",
        "  return model\n",
        "\n",
        "#2次元データ用のニューラルネットワーク\n",
        "def create_2Dmodel(input_size):\n",
        "  #seed値固定\n",
        "  tf.random.set_seed(SEED)\n",
        "  # グレースケール化した画像に対するモデル\n",
        "  model = Sequential()\n",
        "  #addで層を追加する,↓だとconv2dを追加\n",
        "  model.add(Conv2D(64, kernel_size=(3, 3),padding=\"SAME\",\n",
        "                        activation='relu',\n",
        "                        input_shape=input_size)) # 3×3のカーネルサイズの2D Convolution layer\n",
        "  model.add(Conv2D(64, (3, 3),padding=\"SAME\", activation='relu'))\n",
        "  model.add(Dropout(0.3))\n",
        "\n",
        "  model.add(Conv2D(64, (3, 3),padding=\"SAME\", activation='relu'))\n",
        "  model.add(Dropout(0.3))\n",
        "  model.add(Conv2D(64, (3, 3),padding=\"SAME\", activation='relu'))\n",
        "  model.add(MaxPooling2D(pool_size=(3, 3)))\n",
        "  model.add(Dropout(0.3))\n",
        "\n",
        "  model.add(Conv2D(128, (3,3),padding=\"SAME\",activation='relu'))\n",
        "  model.add(Conv2D(128, (3,3),padding=\"SAME\",activation='relu'))\n",
        "  model.add(Dropout(0.3))\n",
        "  model.add(MaxPooling2D(pool_size=(3, 3)))\n",
        "\n",
        "  model.add(Flatten())\n",
        "  model.add(Dense(256, activation='relu')) # 全結合層\n",
        "  model.add(Dense(NUM_CLASSES, activation='softmax'))\n",
        "\n",
        "  # モデルの学習\n",
        "  # 損失関数,最適化関数,評価指標を指定してモデルをコンパイル->学習できる形にする\n",
        "  model.compile(loss=keras.losses.categorical_crossentropy,\n",
        "                            #optimizer=keras.optimizers.Adadelta(),\n",
        "                            optimizer=tf.keras.optimizers.Adam(),\n",
        "                            metrics=['accuracy'])\n",
        "\n",
        "  return model"
      ]
    },
    {
      "cell_type": "markdown",
      "source": [
        "# 分類モデルの構築と学習"
      ],
      "metadata": {
        "id": "NsicgcbY8_Uf"
      }
    },
    {
      "cell_type": "code",
      "source": [
        "(X_train,y_train),(X_test,y_test) = load()\n",
        "#画像サイズ指定\n",
        "img_rows, img_cols = X_train.shape[1], X_train.shape[2]"
      ],
      "metadata": {
        "colab": {
          "base_uri": "https://localhost:8080/"
        },
        "outputId": "beb9df05-c0db-4757-a457-de715eb1d767",
        "id": "-EmjbEF215xU"
      },
      "execution_count": null,
      "outputs": [
        {
          "output_type": "stream",
          "name": "stdout",
          "text": [
            "Downloading data from https://www.cs.toronto.edu/~kriz/cifar-10-python.tar.gz\n",
            "170498071/170498071 [==============================] - 2s 0us/step\n",
            "default X_train's shape is (50000, 32, 32, 3)\n",
            "default y_train's shape is (50000, 1) \n",
            "\n",
            "(150000, 32, 32, 3)\n"
          ]
        }
      ]
    },
    {
      "cell_type": "markdown",
      "source": [
        "次のコードでは特に分類精度の低かった猫データについて追加拡張を行っている。"
      ],
      "metadata": {
        "id": "hJfrnhgbLnIt"
      }
    },
    {
      "cell_type": "code",
      "source": [
        "X_cat = X_train[np.where(y_train == 3)[0]]\n",
        "\n",
        "tf.random.set_seed(SEED)\n",
        "\n",
        "params = {\"zoom_range\" : 0.3,\n",
        "        \"horizontal_flip\" : True,\n",
        "        \"rotation_range\" : 30,\n",
        "        \"height_shift_range\": 0.1,\n",
        "        \"width_shift_range\": 0.1,\n",
        "        \"channel_shift_range\": 0.3}\n",
        "\n",
        "#データ拡張用オブジェクトの定義\n",
        "data_generator = keras.preprocessing.image.ImageDataGenerator(**params)\n",
        "\n",
        "# 同じ画像を複製する\n",
        "train_aug = X_cat.copy()\n",
        "\n",
        "y_aug = y_train[np.where(y_train == 3)[0]]\n",
        "\n",
        "#データ拡張\n",
        "generator = data_generator.flow(train_aug, y_aug, batch_size=15000)\n",
        "\n",
        "# 変換後のデータを取得\n",
        "batch_x = generator.next()\n",
        "\n",
        "X_train = np.concatenate([X_train,batch_x[0]])\n",
        "y_train = np.concatenate([y_train,batch_x[1]])\n",
        "\n",
        "print(X_train.shape)\n",
        "print(y_train.shape)"
      ],
      "metadata": {
        "colab": {
          "base_uri": "https://localhost:8080/"
        },
        "id": "KutGtGjBqYIF",
        "outputId": "bace8934-ba14-485c-eaa2-f80f700a7244"
      },
      "execution_count": null,
      "outputs": [
        {
          "output_type": "stream",
          "name": "stdout",
          "text": [
            "(165000, 32, 32, 3)\n",
            "(165000, 1)\n"
          ]
        }
      ]
    },
    {
      "cell_type": "code",
      "execution_count": null,
      "metadata": {
        "id": "9e46J9rCdvSr",
        "colab": {
          "base_uri": "https://localhost:8080/"
        },
        "outputId": "11a30957-217b-488c-f0cd-bfdad2780572"
      },
      "outputs": [
        {
          "output_type": "stream",
          "name": "stdout",
          "text": [
            "[[array([     2,      3,      7, ..., 164995, 164997, 164998]), array([     0,      1,      4, ..., 164993, 164996, 164999])], [array([     0,      1,      2, ..., 164996, 164998, 164999]), array([     3,     10,     15, ..., 164994, 164995, 164997])], [array([     0,      1,      3, ..., 164996, 164997, 164999]), array([     2,      7,      8, ..., 164991, 164992, 164998])]]\n"
          ]
        }
      ],
      "source": [
        "n_split=3 #いくつに分割するか（何度学習するか）今回は1度のみ学習します\n",
        "kf = StratifiedKFold(n_split,shuffle=True,random_state=0)\n",
        "split_index=[[] for i in range(n_split)] #分割後のindexを格納するためのlist\n",
        "\n",
        "#train_indexは学習用データのindex,valid_indexはtest用データのindex(X,y共用)\n",
        "for fold,(train_index, valid_index) in enumerate(kf.split(X_train,y_train)):\n",
        "    split_index[fold] = [train_index,valid_index]\n",
        "\n",
        "print(split_index)"
      ]
    },
    {
      "cell_type": "code",
      "execution_count": null,
      "metadata": {
        "colab": {
          "base_uri": "https://localhost:8080/"
        },
        "outputId": "4948010d-abd3-43ed-8536-6a71613ee81e",
        "id": "KMFIaUXc9acQ"
      },
      "outputs": [
        {
          "output_type": "stream",
          "name": "stdout",
          "text": [
            "y_train's shape after change to one-hot vec is (165000, 10)\n"
          ]
        }
      ],
      "source": [
        "#データをkerasが読み取れる形式に変換する(one-hotベクトル)\n",
        "y_train = keras.utils.to_categorical(y_train, NUM_CLASSES)\n",
        "y_test = keras.utils.to_categorical(y_test, NUM_CLASSES)\n",
        "print(\"y_train's shape after change to one-hot vec is\",y_train.shape)"
      ]
    },
    {
      "cell_type": "code",
      "execution_count": null,
      "metadata": {
        "id": "mgw4kKURdvSu"
      },
      "outputs": [],
      "source": [
        "X_train = np.expand_dims(X_train, axis=-1)  # 最後の次元にチャンネル数を追加\n",
        "X_test = np.expand_dims(X_test, axis=-1)  # 最後の次元にチャンネル数を追加"
      ]
    },
    {
      "cell_type": "code",
      "source": [
        "checkpoint_path, cp_callback = create_checkpoint(\"重みを保存するファイルのパスをここに記載\")"
      ],
      "metadata": {
        "id": "M5Exf-I2soHz"
      },
      "execution_count": null,
      "outputs": []
    },
    {
      "cell_type": "code",
      "execution_count": null,
      "metadata": {
        "colab": {
          "base_uri": "https://localhost:8080/",
          "height": 1000
        },
        "id": "aA1wkflYdvSv",
        "outputId": "fe2d9f46-06ca-464c-92b4-6b60bb1ac96c"
      },
      "outputs": [
        {
          "output_type": "stream",
          "name": "stdout",
          "text": [
            "Epoch 1/32\n",
            "860/860 [==============================] - ETA: 0s - loss: 1.7493 - accuracy: 0.3774\n",
            "Epoch 1: saving model to Weight_of_model/Original/cat_data_inc.safetensors\n",
            "860/860 [==============================] - 106s 111ms/step - loss: 1.7493 - accuracy: 0.3774 - val_loss: 1.5193 - val_accuracy: 0.4692\n",
            "Epoch 2/32\n",
            "859/860 [============================>.] - ETA: 0s - loss: 1.4048 - accuracy: 0.5078\n",
            "Epoch 2: saving model to Weight_of_model/Original/cat_data_inc.safetensors\n",
            "860/860 [==============================] - 82s 95ms/step - loss: 1.4048 - accuracy: 0.5079 - val_loss: 1.3861 - val_accuracy: 0.5180\n",
            "Epoch 3/32\n",
            "859/860 [============================>.] - ETA: 0s - loss: 1.2287 - accuracy: 0.5724\n",
            "Epoch 3: saving model to Weight_of_model/Original/cat_data_inc.safetensors\n",
            "860/860 [==============================] - 81s 95ms/step - loss: 1.2287 - accuracy: 0.5724 - val_loss: 1.3048 - val_accuracy: 0.5477\n",
            "Epoch 4/32\n",
            "859/860 [============================>.] - ETA: 0s - loss: 1.1275 - accuracy: 0.6096\n",
            "Epoch 4: saving model to Weight_of_model/Original/cat_data_inc.safetensors\n",
            "860/860 [==============================] - 81s 95ms/step - loss: 1.1276 - accuracy: 0.6096 - val_loss: 1.1233 - val_accuracy: 0.6103\n",
            "Epoch 5/32\n",
            "859/860 [============================>.] - ETA: 0s - loss: 1.0503 - accuracy: 0.6362\n",
            "Epoch 5: saving model to Weight_of_model/Original/cat_data_inc.safetensors\n",
            "860/860 [==============================] - 81s 95ms/step - loss: 1.0501 - accuracy: 0.6362 - val_loss: 1.0436 - val_accuracy: 0.6420\n",
            "Epoch 6/32\n",
            "859/860 [============================>.] - ETA: 0s - loss: 0.9936 - accuracy: 0.6555\n",
            "Epoch 6: saving model to Weight_of_model/Original/cat_data_inc.safetensors\n",
            "860/860 [==============================] - 81s 95ms/step - loss: 0.9936 - accuracy: 0.6555 - val_loss: 0.9936 - val_accuracy: 0.6610\n",
            "Epoch 7/32\n",
            "859/860 [============================>.] - ETA: 0s - loss: 0.9412 - accuracy: 0.6738\n",
            "Epoch 7: saving model to Weight_of_model/Original/cat_data_inc.safetensors\n",
            "860/860 [==============================] - 81s 95ms/step - loss: 0.9412 - accuracy: 0.6738 - val_loss: 0.9699 - val_accuracy: 0.6664\n",
            "Epoch 8/32\n",
            "859/860 [============================>.] - ETA: 0s - loss: 0.9039 - accuracy: 0.6871\n",
            "Epoch 8: saving model to Weight_of_model/Original/cat_data_inc.safetensors\n",
            "860/860 [==============================] - 81s 95ms/step - loss: 0.9039 - accuracy: 0.6872 - val_loss: 0.9097 - val_accuracy: 0.6886\n",
            "Epoch 9/32\n",
            "859/860 [============================>.] - ETA: 0s - loss: 0.8685 - accuracy: 0.6989\n",
            "Epoch 9: saving model to Weight_of_model/Original/cat_data_inc.safetensors\n",
            "860/860 [==============================] - 81s 95ms/step - loss: 0.8687 - accuracy: 0.6989 - val_loss: 1.0648 - val_accuracy: 0.6443\n",
            "Epoch 10/32\n",
            "859/860 [============================>.] - ETA: 0s - loss: 0.8379 - accuracy: 0.7095\n",
            "Epoch 10: saving model to Weight_of_model/Original/cat_data_inc.safetensors\n",
            "860/860 [==============================] - 81s 94ms/step - loss: 0.8379 - accuracy: 0.7095 - val_loss: 0.8573 - val_accuracy: 0.7078\n",
            "Epoch 11/32\n",
            "859/860 [============================>.] - ETA: 0s - loss: 0.8086 - accuracy: 0.7217\n",
            "Epoch 11: saving model to Weight_of_model/Original/cat_data_inc.safetensors\n",
            "860/860 [==============================] - 81s 95ms/step - loss: 0.8085 - accuracy: 0.7217 - val_loss: 0.9188 - val_accuracy: 0.6904\n",
            "Epoch 12/32\n",
            "859/860 [============================>.] - ETA: 0s - loss: 0.7869 - accuracy: 0.7267\n",
            "Epoch 12: saving model to Weight_of_model/Original/cat_data_inc.safetensors\n",
            "860/860 [==============================] - 81s 95ms/step - loss: 0.7869 - accuracy: 0.7267 - val_loss: 0.9430 - val_accuracy: 0.6846\n",
            "Epoch 13/32\n",
            "859/860 [============================>.] - ETA: 0s - loss: 0.7608 - accuracy: 0.7363\n",
            "Epoch 13: saving model to Weight_of_model/Original/cat_data_inc.safetensors\n",
            "860/860 [==============================] - 81s 94ms/step - loss: 0.7608 - accuracy: 0.7363 - val_loss: 0.8631 - val_accuracy: 0.7064\n",
            "Epoch 14/32\n",
            "859/860 [============================>.] - ETA: 0s - loss: 0.7365 - accuracy: 0.7452\n",
            "Epoch 14: saving model to Weight_of_model/Original/cat_data_inc.safetensors\n",
            "860/860 [==============================] - 81s 94ms/step - loss: 0.7365 - accuracy: 0.7452 - val_loss: 0.8481 - val_accuracy: 0.7155\n",
            "Epoch 15/32\n",
            "859/860 [============================>.] - ETA: 0s - loss: 0.7176 - accuracy: 0.7520\n",
            "Epoch 15: saving model to Weight_of_model/Original/cat_data_inc.safetensors\n",
            "860/860 [==============================] - 81s 94ms/step - loss: 0.7177 - accuracy: 0.7519 - val_loss: 0.8412 - val_accuracy: 0.7173\n",
            "Epoch 16/32\n",
            "859/860 [============================>.] - ETA: 0s - loss: 0.6929 - accuracy: 0.7606\n",
            "Epoch 16: saving model to Weight_of_model/Original/cat_data_inc.safetensors\n",
            "860/860 [==============================] - 82s 95ms/step - loss: 0.6928 - accuracy: 0.7606 - val_loss: 0.8325 - val_accuracy: 0.7255\n",
            "Epoch 17/32\n",
            "859/860 [============================>.] - ETA: 0s - loss: 0.6782 - accuracy: 0.7641\n",
            "Epoch 17: saving model to Weight_of_model/Original/cat_data_inc.safetensors\n",
            "860/860 [==============================] - 81s 95ms/step - loss: 0.6782 - accuracy: 0.7641 - val_loss: 0.8364 - val_accuracy: 0.7221\n",
            "Epoch 18/32\n",
            "859/860 [============================>.] - ETA: 0s - loss: 0.6588 - accuracy: 0.7716\n",
            "Epoch 18: saving model to Weight_of_model/Original/cat_data_inc.safetensors\n",
            "860/860 [==============================] - 81s 95ms/step - loss: 0.6588 - accuracy: 0.7716 - val_loss: 0.8759 - val_accuracy: 0.7095\n",
            "Epoch 19/32\n",
            "859/860 [============================>.] - ETA: 0s - loss: 0.6422 - accuracy: 0.7768\n",
            "Epoch 19: saving model to Weight_of_model/Original/cat_data_inc.safetensors\n",
            "860/860 [==============================] - 81s 95ms/step - loss: 0.6422 - accuracy: 0.7768 - val_loss: 0.8756 - val_accuracy: 0.7189\n",
            "Epoch 20/32\n",
            "859/860 [============================>.] - ETA: 0s - loss: 0.6275 - accuracy: 0.7805\n",
            "Epoch 20: saving model to Weight_of_model/Original/cat_data_inc.safetensors\n",
            "860/860 [==============================] - 82s 95ms/step - loss: 0.6276 - accuracy: 0.7804 - val_loss: 0.8160 - val_accuracy: 0.7314\n",
            "Epoch 21/32\n",
            "859/860 [============================>.] - ETA: 0s - loss: 0.6116 - accuracy: 0.7871\n",
            "Epoch 21: saving model to Weight_of_model/Original/cat_data_inc.safetensors\n",
            "860/860 [==============================] - 82s 95ms/step - loss: 0.6116 - accuracy: 0.7871 - val_loss: 0.7956 - val_accuracy: 0.7403\n",
            "Epoch 22/32\n",
            "859/860 [============================>.] - ETA: 0s - loss: 0.5956 - accuracy: 0.7916\n",
            "Epoch 22: saving model to Weight_of_model/Original/cat_data_inc.safetensors\n",
            "860/860 [==============================] - 82s 95ms/step - loss: 0.5956 - accuracy: 0.7916 - val_loss: 0.8081 - val_accuracy: 0.7354\n",
            "Epoch 23/32\n",
            "859/860 [============================>.] - ETA: 0s - loss: 0.5762 - accuracy: 0.7994\n",
            "Epoch 23: saving model to Weight_of_model/Original/cat_data_inc.safetensors\n",
            "860/860 [==============================] - 81s 95ms/step - loss: 0.5763 - accuracy: 0.7994 - val_loss: 0.8149 - val_accuracy: 0.7400\n",
            "Epoch 24/32\n",
            "859/860 [============================>.] - ETA: 0s - loss: 0.5645 - accuracy: 0.8021\n",
            "Epoch 24: saving model to Weight_of_model/Original/cat_data_inc.safetensors\n",
            "860/860 [==============================] - 81s 95ms/step - loss: 0.5645 - accuracy: 0.8021 - val_loss: 0.7959 - val_accuracy: 0.7415\n",
            "Epoch 25/32\n",
            "859/860 [============================>.] - ETA: 0s - loss: 0.5521 - accuracy: 0.8074\n",
            "Epoch 25: saving model to Weight_of_model/Original/cat_data_inc.safetensors\n",
            "860/860 [==============================] - 81s 95ms/step - loss: 0.5521 - accuracy: 0.8073 - val_loss: 0.7635 - val_accuracy: 0.7541\n",
            "Epoch 26/32\n",
            "859/860 [============================>.] - ETA: 0s - loss: 0.5422 - accuracy: 0.8113\n",
            "Epoch 26: saving model to Weight_of_model/Original/cat_data_inc.safetensors\n",
            "860/860 [==============================] - 81s 94ms/step - loss: 0.5421 - accuracy: 0.8113 - val_loss: 0.8360 - val_accuracy: 0.7332\n",
            "Epoch 27/32\n",
            "859/860 [============================>.] - ETA: 0s - loss: 0.5294 - accuracy: 0.8139\n",
            "Epoch 27: saving model to Weight_of_model/Original/cat_data_inc.safetensors\n",
            "860/860 [==============================] - 81s 95ms/step - loss: 0.5294 - accuracy: 0.8139 - val_loss: 0.8067 - val_accuracy: 0.7441\n",
            "Epoch 28/32\n",
            "859/860 [============================>.] - ETA: 0s - loss: 0.5180 - accuracy: 0.8182\n",
            "Epoch 28: saving model to Weight_of_model/Original/cat_data_inc.safetensors\n",
            "860/860 [==============================] - 82s 95ms/step - loss: 0.5180 - accuracy: 0.8182 - val_loss: 0.8481 - val_accuracy: 0.7277\n",
            "Epoch 29/32\n",
            "859/860 [============================>.] - ETA: 0s - loss: 0.5068 - accuracy: 0.8216\n",
            "Epoch 29: saving model to Weight_of_model/Original/cat_data_inc.safetensors\n",
            "860/860 [==============================] - 92s 107ms/step - loss: 0.5067 - accuracy: 0.8217 - val_loss: 0.9214 - val_accuracy: 0.7225\n",
            "Epoch 30/32\n",
            "859/860 [============================>.] - ETA: 0s - loss: 0.4960 - accuracy: 0.8264\n",
            "Epoch 30: saving model to Weight_of_model/Original/cat_data_inc.safetensors\n",
            "860/860 [==============================] - 82s 95ms/step - loss: 0.4960 - accuracy: 0.8265 - val_loss: 0.7915 - val_accuracy: 0.7494\n",
            "Epoch 31/32\n",
            "859/860 [============================>.] - ETA: 0s - loss: 0.4873 - accuracy: 0.8285\n",
            "Epoch 31: saving model to Weight_of_model/Original/cat_data_inc.safetensors\n",
            "860/860 [==============================] - 82s 95ms/step - loss: 0.4875 - accuracy: 0.8284 - val_loss: 0.8111 - val_accuracy: 0.7460\n",
            "Epoch 32/32\n",
            "859/860 [============================>.] - ETA: 0s - loss: 0.4773 - accuracy: 0.8335\n",
            "Epoch 32: saving model to Weight_of_model/Original/cat_data_inc.safetensors\n",
            "860/860 [==============================] - 92s 107ms/step - loss: 0.4772 - accuracy: 0.8335 - val_loss: 0.8592 - val_accuracy: 0.7359\n",
            "{'loss': [1.749289631843567, 1.4047763347625732, 1.228711485862732, 1.1276475191116333, 1.0501230955123901, 0.9935632348060608, 0.9411686658859253, 0.9038921594619751, 0.8686782717704773, 0.8378814458847046, 0.8085336685180664, 0.7868871688842773, 0.7607619762420654, 0.7364659905433655, 0.7176907658576965, 0.6928242444992065, 0.678198516368866, 0.6588331460952759, 0.6421741247177124, 0.6276429891586304, 0.611614465713501, 0.5955999493598938, 0.5762840509414673, 0.5644931793212891, 0.5521264672279358, 0.5421061515808105, 0.5294005870819092, 0.51803058385849, 0.5066646933555603, 0.4960487186908722, 0.48745426535606384, 0.4772302210330963], 'accuracy': [0.3774000108242035, 0.5078545212745667, 0.5723999738693237, 0.6095818281173706, 0.6362454295158386, 0.6555363535881042, 0.673836350440979, 0.6871727108955383, 0.6988909244537354, 0.7094636559486389, 0.7217363715171814, 0.7266545295715332, 0.7362727522850037, 0.745199978351593, 0.7519363760948181, 0.7605727314949036, 0.7641090750694275, 0.7715545296669006, 0.7768090963363647, 0.7804181575775146, 0.7871181964874268, 0.7916272878646851, 0.7993999719619751, 0.8020908832550049, 0.807345449924469, 0.8113272786140442, 0.8139363527297974, 0.8181636333465576, 0.8216636180877686, 0.8264545202255249, 0.8283727169036865, 0.8335000276565552], 'val_loss': [1.5193264484405518, 1.3860849142074585, 1.3048014640808105, 1.1232671737670898, 1.043580412864685, 0.9935662746429443, 0.9698982834815979, 0.9097148180007935, 1.0647581815719604, 0.8573195934295654, 0.9187672138214111, 0.9430273175239563, 0.8630525469779968, 0.8481138944625854, 0.8411924839019775, 0.8324832320213318, 0.8363535404205322, 0.8759227395057678, 0.8755647540092468, 0.8160342574119568, 0.7955760359764099, 0.8081232905387878, 0.8149372339248657, 0.7959243059158325, 0.7635147571563721, 0.8360048532485962, 0.8067007064819336, 0.8481375575065613, 0.9214425683021545, 0.7914643883705139, 0.8111034631729126, 0.859199047088623], 'val_accuracy': [0.4692363739013672, 0.5179818272590637, 0.5476727485656738, 0.6102727055549622, 0.64201819896698, 0.6609818339347839, 0.666418194770813, 0.6886000037193298, 0.6442909240722656, 0.7077999711036682, 0.6903636455535889, 0.6846181750297546, 0.7064181566238403, 0.7155454754829407, 0.7172909379005432, 0.7255454659461975, 0.7221090793609619, 0.7095090746879578, 0.718854546546936, 0.7314181923866272, 0.7403091192245483, 0.7354363799095154, 0.7399818301200867, 0.741454541683197, 0.7541090846061707, 0.7331818342208862, 0.7441272735595703, 0.7276727557182312, 0.7224909067153931, 0.7493636608123779, 0.7459636330604553, 0.735909104347229]}\n"
          ]
        },
        {
          "output_type": "display_data",
          "data": {
            "text/plain": [
              "<Figure size 640x480 with 1 Axes>"
            ],
            "image/png": "[encoded data removed]"
          },
          "metadata": {}
        },
        {
          "output_type": "display_data",
          "data": {
            "text/plain": [
              "<Figure size 640x480 with 1 Axes>"
            ],
            "image/png": "[encoded data removed]"
          },
          "metadata": {}
        }
      ],
      "source": [
        "NUMBER_OF_EPOCH = 32\n",
        "BATCH_SIZE = 128\n",
        "\n",
        "model_color = create_3Dmodel()\n",
        "\n",
        "# モデルの学習\n",
        "model_color.fit(X_train[split_index[0][0]], y_train[split_index[0][0]],\n",
        "                batch_size=BATCH_SIZE,\n",
        "                epochs=NUMBER_OF_EPOCH,\n",
        "                verbose=1,\n",
        "                validation_data=(X_train[split_index[0][1]], y_train[split_index[0][1]]),\n",
        "                callbacks=[cp_callback])\n",
        "\n",
        "plot_history_of_model(model_color)\n",
        "\n",
        "#データ10万\n",
        "#loss: 0.1955 - accuracy: 0.9300 - val_loss: 0.9620 - val_accuracy: 0.7557"
      ]
    },
    {
      "cell_type": "code",
      "source": [
        "\"\"\"\n",
        "#保存した重みの読み込み\n",
        "model_color = create_3Dmodel()\n",
        "\n",
        "model_color.load_weights(checkpoint_path)\n",
        "\"\"\""
      ],
      "metadata": {
        "id": "nSdO9DdDtL-H",
        "colab": {
          "base_uri": "https://localhost:8080/"
        },
        "outputId": "2056116c-a7ff-4d37-ceec-3856d9c9b297"
      },
      "execution_count": null,
      "outputs": [
        {
          "output_type": "execute_result",
          "data": {
            "text/plain": [
              "<tensorflow.python.checkpoint.checkpoint.CheckpointLoadStatus at 0x7a1e9a16a110>"
            ]
          },
          "metadata": {},
          "execution_count": 12
        }
      ]
    },
    {
      "cell_type": "code",
      "execution_count": null,
      "metadata": {
        "colab": {
          "base_uri": "https://localhost:8080/"
        },
        "id": "O7UfQgAjdvSw",
        "outputId": "eb41ac91-5c93-482c-9f02-148ad601b3b9"
      },
      "outputs": [
        {
          "output_type": "stream",
          "name": "stdout",
          "text": [
            "313/313 [==============================] - 8s 7ms/step\n",
            "accuracy : 0.8035\n"
          ]
        }
      ],
      "source": [
        "pred_color = model_color.predict(X_test)\n",
        "count = 0\n",
        "for i in range(len(X_test)):\n",
        "    if np.argmax(pred_color[i]) == np.argmax(y_test[i]):\n",
        "        count +=1\n",
        "\n",
        "print(\"accuracy :\",count/len(X_test))\n",
        "\n",
        "#accuracy : 0.8055"
      ]
    },
    {
      "cell_type": "code",
      "source": [
        "count = 0\n",
        "\n",
        "negative_list = np.zeros(10)\n",
        "pred_list = np.zeros(10)\n",
        "\n",
        "true = np.zeros(10)\n",
        "pred = np.zeros(10)\n",
        "\n",
        "my_matrix = np.zeros((10,10))\n",
        "\n",
        "for i in range(len(pred_color)):\n",
        "    if np.argmax(pred_color[i]) == np.argmax(y_test[i]):\n",
        "        count +=1\n",
        "    else:\n",
        "      negative_list[np.argmax(y_test[i])] += 1\n",
        "      pred_list[np.argmax(pred_color[i])] += 1\n",
        "\n",
        "    true[np.argmax(y_test[i])] += 1\n",
        "    pred[np.argmax(pred_color[i])] += 1\n",
        "\n",
        "    my_matrix[np.argmax(y_test[i])][np.argmax(pred_color[i])] += 1\n",
        "\n",
        "print(\"accuracy :\",count/len(pred_color))\n",
        "print(label_dict)\n",
        "print(negative_list)\n",
        "print(pred_list,\"\\n\")\n",
        "\n",
        "print(true)\n",
        "print(pred,\"\\n\")\n",
        "\n",
        "print(my_matrix)"
      ],
      "metadata": {
        "colab": {
          "base_uri": "https://localhost:8080/"
        },
        "id": "5-zDRgdr4WvC",
        "outputId": "94bcf89a-8256-4ed9-8610-c29180b0b5b3"
      },
      "execution_count": null,
      "outputs": [
        {
          "output_type": "stream",
          "name": "stdout",
          "text": [
            "accuracy : 0.8035\n",
            "{0: '飛行機', 1: '自動車', 2: '鳥', 3: '猫', 4: '鹿', 5: '犬', 6: 'カエル', 7: '馬', 8: '船', 9: 'トラック'}\n",
            "[159.  44. 315. 350. 267. 239. 114. 196. 122. 159.]\n",
            "[173. 199. 190. 339. 163. 322. 233. 116. 124. 106.] \n",
            "\n",
            "[1000. 1000. 1000. 1000. 1000. 1000. 1000. 1000. 1000. 1000.]\n",
            "[1014. 1155.  875.  989.  896. 1083. 1119.  920. 1002.  947.] \n",
            "\n",
            "[[841.  17.  25.  17.   7.   6.   6.   6.  46.  29.]\n",
            " [  2. 956.   2.   3.   3.   1.   3.   0.  11.  19.]\n",
            " [ 46.   7. 685.  47.  59.  59.  60.  23.   8.   6.]\n",
            " [ 29.  19.  38. 650.  25. 126.  71.  20.  10.  12.]\n",
            " [ 15.   3.  61.  46. 733.  46.  53.  33.   9.   1.]\n",
            " [ 10.   2.  27. 119.  20. 761.  24.  20.   7.  10.]\n",
            " [  6.   8.  15.  33.   7.  22. 886.   5.  14.   4.]\n",
            " [  9.   4.  13.  49.  37.  58.  12. 804.   2.  12.]\n",
            " [ 43.  36.   8.  12.   3.   2.   2.   3. 878.  13.]\n",
            " [ 13. 103.   1.  13.   2.   2.   2.   6.  17. 841.]]\n"
          ]
        }
      ]
    },
    {
      "cell_type": "code",
      "source": [
        "del X_train,X_test\n",
        "gc.collect()"
      ],
      "metadata": {
        "id": "Dv6BxkDRwh6i",
        "colab": {
          "base_uri": "https://localhost:8080/"
        },
        "outputId": "c60aae2a-4410-42dc-e70f-d05e2fc24987"
      },
      "execution_count": null,
      "outputs": [
        {
          "output_type": "execute_result",
          "data": {
            "text/plain": [
              "994"
            ]
          },
          "metadata": {},
          "execution_count": 14
        }
      ]
    },
    {
      "cell_type": "markdown",
      "source": [
        "# 元データにマスク処理を施したデータに対する分類モデル"
      ],
      "metadata": {
        "id": "dC0izHOlwq70"
      }
    },
    {
      "cell_type": "code",
      "source": [
        "(X_train,y_train),(X_test,y_test) = load()"
      ],
      "metadata": {
        "colab": {
          "base_uri": "https://localhost:8080/"
        },
        "id": "oKxO2UFOvY38",
        "outputId": "52de9e46-0063-476a-f37c-29d542dfa553"
      },
      "execution_count": null,
      "outputs": [
        {
          "output_type": "stream",
          "name": "stdout",
          "text": [
            "default X_train's shape is (50000, 32, 32, 3)\n",
            "default y_train's shape is (50000, 1) \n",
            "\n",
            "(150000, 32, 32, 3)\n"
          ]
        }
      ]
    },
    {
      "cell_type": "code",
      "source": [
        "X_cat = X_train[np.where(y_train == 3)[0]]\n",
        "\n",
        "tf.random.set_seed(SEED)\n",
        "\n",
        "params = {\"zoom_range\" : 0.3,\n",
        "        \"horizontal_flip\" : True,\n",
        "        \"rotation_range\" : 30,\n",
        "        \"height_shift_range\": 0.1,\n",
        "        \"width_shift_range\": 0.1,\n",
        "        \"channel_shift_range\": 0.3}\n",
        "\n",
        "#データ拡張用オブジェクトの定義\n",
        "data_generator = keras.preprocessing.image.ImageDataGenerator(**params)\n",
        "\n",
        "# 同じ画像を複製する\n",
        "train_aug = X_cat.copy()\n",
        "\n",
        "y_aug = y_train[np.where(y_train == 3)[0]]\n",
        "\n",
        "#データ拡張\n",
        "generator = data_generator.flow(train_aug, y_aug, batch_size=15000)\n",
        "\n",
        "# 変換後のデータを取得\n",
        "batch_x = generator.next()\n",
        "\n",
        "X_train = np.concatenate([X_train,batch_x[0]])\n",
        "y_train = np.concatenate([y_train,batch_x[1]])\n",
        "\n",
        "print(X_train.shape)\n",
        "print(y_train.shape)"
      ],
      "metadata": {
        "colab": {
          "base_uri": "https://localhost:8080/"
        },
        "id": "pwRWhnE8JvZH",
        "outputId": "88fed4ac-ec6d-4b19-bdf2-dd48a91d9395"
      },
      "execution_count": null,
      "outputs": [
        {
          "output_type": "stream",
          "name": "stdout",
          "text": [
            "(165000, 32, 32, 3)\n",
            "(165000, 1)\n"
          ]
        }
      ]
    },
    {
      "cell_type": "markdown",
      "source": [
        "次のコードでは画像へマスク処理を施している。"
      ],
      "metadata": {
        "id": "2muNN4XqMDj_"
      }
    },
    {
      "cell_type": "code",
      "execution_count": null,
      "metadata": {
        "colab": {
          "base_uri": "https://localhost:8080/"
        },
        "id": "Nl3NjafbdvSo",
        "outputId": "0482256c-07fe-4dd1-b976-137447399981"
      },
      "outputs": [
        {
          "output_type": "stream",
          "name": "stdout",
          "text": [
            "(32, 32)\n"
          ]
        },
        {
          "output_type": "execute_result",
          "data": {
            "text/plain": [
              "0"
            ]
          },
          "metadata": {},
          "execution_count": 17
        }
      ],
      "source": [
        "row, col = np.ogrid[:img_rows, :img_cols]\n",
        "\n",
        "cnt_row, cnt_col = img_rows / 2, img_cols / 2 # Center of the disk\n",
        "outer_disk_mask = ((row - cnt_row)**2 + (col - cnt_col)**2 > (img_cols / 2)**2)\n",
        "\n",
        "print(outer_disk_mask.shape)\n",
        "\n",
        "X_train_masked = X_train.copy()\n",
        "X_test_masked = X_test.copy()\n",
        "for i in range(X_train.shape[0]):\n",
        "    X_train_masked[i][outer_disk_mask] = 0\n",
        "for i in range(X_test.shape[0]):\n",
        "    X_test_masked[i][outer_disk_mask] = 0\n",
        "\n",
        "#メモリ開放\n",
        "del X_train,row,col,cnt_row,cnt_col\n",
        "gc.collect()"
      ]
    },
    {
      "cell_type": "code",
      "execution_count": null,
      "metadata": {
        "colab": {
          "base_uri": "https://localhost:8080/"
        },
        "id": "N0FHEBp5dvSs",
        "outputId": "9cb67862-a34d-4c2f-895a-b465cd46e5b3"
      },
      "outputs": [
        {
          "output_type": "stream",
          "name": "stdout",
          "text": [
            "y_train's shape after change to one-hot vec is (165000, 10)\n"
          ]
        }
      ],
      "source": [
        "#データをkerasが読み取れる形式に変換する(one-hotベクトル)\n",
        "y_train = keras.utils.to_categorical(y_train, NUM_CLASSES)\n",
        "y_test = keras.utils.to_categorical(y_test, NUM_CLASSES)\n",
        "print(\"y_train's shape after change to one-hot vec is\",y_train.shape)"
      ]
    },
    {
      "cell_type": "code",
      "execution_count": null,
      "metadata": {
        "id": "W9N10NEOdvSu"
      },
      "outputs": [],
      "source": [
        "X_train_masked = np.expand_dims(X_train_masked, axis=-1)  # 最後の次元にチャンネルを追加\n",
        "X_test_masked = np.expand_dims(X_test, axis=-1)"
      ]
    },
    {
      "cell_type": "code",
      "source": [
        "#checkpointの設定\n",
        "checkpoint_path,cp_callback = create_checkpoint(\"重みを保存するファイルのパスをここに記載\")"
      ],
      "metadata": {
        "id": "rJSUD4x5vLSv"
      },
      "execution_count": null,
      "outputs": []
    },
    {
      "cell_type": "code",
      "execution_count": null,
      "metadata": {
        "id": "EL5Y4VKcdvSv",
        "colab": {
          "base_uri": "https://localhost:8080/"
        },
        "outputId": "5d0234f5-91a0-495f-aca6-f6c93d83e718"
      },
      "outputs": [
        {
          "output_type": "stream",
          "name": "stdout",
          "text": [
            "Epoch 1/32\n",
            "860/860 [==============================] - ETA: 0s - loss: 1.8582 - accuracy: 0.3376\n",
            "Epoch 1: saving model to Weight_of_model/Masked/cat_data_inc.safetensors\n",
            "860/860 [==============================] - 99s 108ms/step - loss: 1.8582 - accuracy: 0.3376 - val_loss: 1.6710 - val_accuracy: 0.4087\n",
            "Epoch 2/32\n",
            "859/860 [============================>.] - ETA: 0s - loss: 1.5702 - accuracy: 0.4435\n",
            "Epoch 2: saving model to Weight_of_model/Masked/cat_data_inc.safetensors\n",
            "860/860 [==============================] - 80s 93ms/step - loss: 1.5701 - accuracy: 0.4435 - val_loss: 1.4709 - val_accuracy: 0.4851\n",
            "Epoch 3/32\n",
            "859/860 [============================>.] - ETA: 0s - loss: 1.3876 - accuracy: 0.5124\n",
            "Epoch 3: saving model to Weight_of_model/Masked/cat_data_inc.safetensors\n",
            "860/860 [==============================] - 79s 92ms/step - loss: 1.3876 - accuracy: 0.5124 - val_loss: 1.3358 - val_accuracy: 0.5348\n",
            "Epoch 4/32\n",
            "859/860 [============================>.] - ETA: 0s - loss: 1.2552 - accuracy: 0.5637\n",
            "Epoch 4: saving model to Weight_of_model/Masked/cat_data_inc.safetensors\n",
            "860/860 [==============================] - 79s 92ms/step - loss: 1.2553 - accuracy: 0.5638 - val_loss: 1.2030 - val_accuracy: 0.5805\n",
            "Epoch 5/32\n",
            "859/860 [============================>.] - ETA: 0s - loss: 1.1677 - accuracy: 0.5949\n",
            "Epoch 5: saving model to Weight_of_model/Masked/cat_data_inc.safetensors\n",
            "860/860 [==============================] - 78s 91ms/step - loss: 1.1677 - accuracy: 0.5950 - val_loss: 1.0964 - val_accuracy: 0.6181\n",
            "Epoch 6/32\n",
            "859/860 [============================>.] - ETA: 0s - loss: 1.1024 - accuracy: 0.6162\n",
            "Epoch 6: saving model to Weight_of_model/Masked/cat_data_inc.safetensors\n",
            "860/860 [==============================] - 78s 91ms/step - loss: 1.1024 - accuracy: 0.6163 - val_loss: 1.1204 - val_accuracy: 0.6173\n",
            "Epoch 7/32\n",
            "859/860 [============================>.] - ETA: 0s - loss: 1.0555 - accuracy: 0.6355\n",
            "Epoch 7: saving model to Weight_of_model/Masked/cat_data_inc.safetensors\n",
            "860/860 [==============================] - 78s 91ms/step - loss: 1.0554 - accuracy: 0.6355 - val_loss: 1.1499 - val_accuracy: 0.5991\n",
            "Epoch 8/32\n",
            "859/860 [============================>.] - ETA: 0s - loss: 1.0105 - accuracy: 0.6495\n",
            "Epoch 8: saving model to Weight_of_model/Masked/cat_data_inc.safetensors\n",
            "860/860 [==============================] - 78s 91ms/step - loss: 1.0105 - accuracy: 0.6495 - val_loss: 1.0707 - val_accuracy: 0.6272\n",
            "Epoch 9/32\n",
            "859/860 [============================>.] - ETA: 0s - loss: 0.9732 - accuracy: 0.6614\n",
            "Epoch 9: saving model to Weight_of_model/Masked/cat_data_inc.safetensors\n",
            "860/860 [==============================] - 78s 90ms/step - loss: 0.9733 - accuracy: 0.6614 - val_loss: 1.0940 - val_accuracy: 0.6261\n",
            "Epoch 10/32\n",
            "859/860 [============================>.] - ETA: 0s - loss: 0.9426 - accuracy: 0.6721\n",
            "Epoch 10: saving model to Weight_of_model/Masked/cat_data_inc.safetensors\n",
            "860/860 [==============================] - 78s 91ms/step - loss: 0.9426 - accuracy: 0.6721 - val_loss: 0.9616 - val_accuracy: 0.6697\n",
            "Epoch 11/32\n",
            "859/860 [============================>.] - ETA: 0s - loss: 0.9130 - accuracy: 0.6842\n",
            "Epoch 11: saving model to Weight_of_model/Masked/cat_data_inc.safetensors\n",
            "860/860 [==============================] - 78s 91ms/step - loss: 0.9131 - accuracy: 0.6841 - val_loss: 0.9049 - val_accuracy: 0.6881\n",
            "Epoch 12/32\n",
            "859/860 [============================>.] - ETA: 0s - loss: 0.8912 - accuracy: 0.6906\n",
            "Epoch 12: saving model to Weight_of_model/Masked/cat_data_inc.safetensors\n",
            "860/860 [==============================] - 78s 90ms/step - loss: 0.8912 - accuracy: 0.6906 - val_loss: 0.9365 - val_accuracy: 0.6796\n",
            "Epoch 13/32\n",
            "859/860 [============================>.] - ETA: 0s - loss: 0.8659 - accuracy: 0.6993\n",
            "Epoch 13: saving model to Weight_of_model/Masked/cat_data_inc.safetensors\n",
            "860/860 [==============================] - 78s 91ms/step - loss: 0.8658 - accuracy: 0.6993 - val_loss: 0.8935 - val_accuracy: 0.6939\n",
            "Epoch 14/32\n",
            "859/860 [============================>.] - ETA: 0s - loss: 0.8412 - accuracy: 0.7068\n",
            "Epoch 14: saving model to Weight_of_model/Masked/cat_data_inc.safetensors\n",
            "860/860 [==============================] - 78s 90ms/step - loss: 0.8412 - accuracy: 0.7068 - val_loss: 0.9388 - val_accuracy: 0.6818\n",
            "Epoch 15/32\n",
            "859/860 [============================>.] - ETA: 0s - loss: 0.8261 - accuracy: 0.7127\n",
            "Epoch 15: saving model to Weight_of_model/Masked/cat_data_inc.safetensors\n",
            "860/860 [==============================] - 78s 91ms/step - loss: 0.8260 - accuracy: 0.7128 - val_loss: 0.8735 - val_accuracy: 0.7018\n",
            "Epoch 16/32\n",
            "859/860 [============================>.] - ETA: 0s - loss: 0.8031 - accuracy: 0.7208\n",
            "Epoch 16: saving model to Weight_of_model/Masked/cat_data_inc.safetensors\n",
            "860/860 [==============================] - 78s 91ms/step - loss: 0.8032 - accuracy: 0.7207 - val_loss: 0.8648 - val_accuracy: 0.7064\n",
            "Epoch 17/32\n",
            "859/860 [============================>.] - ETA: 0s - loss: 0.7850 - accuracy: 0.7264\n",
            "Epoch 17: saving model to Weight_of_model/Masked/cat_data_inc.safetensors\n",
            "860/860 [==============================] - 78s 91ms/step - loss: 0.7850 - accuracy: 0.7264 - val_loss: 0.8471 - val_accuracy: 0.7128\n",
            "Epoch 18/32\n",
            "859/860 [============================>.] - ETA: 0s - loss: 0.7662 - accuracy: 0.7338\n",
            "Epoch 18: saving model to Weight_of_model/Masked/cat_data_inc.safetensors\n",
            "860/860 [==============================] - 78s 90ms/step - loss: 0.7662 - accuracy: 0.7338 - val_loss: 0.8545 - val_accuracy: 0.7111\n",
            "Epoch 19/32\n",
            "859/860 [============================>.] - ETA: 0s - loss: 0.7526 - accuracy: 0.7391\n",
            "Epoch 19: saving model to Weight_of_model/Masked/cat_data_inc.safetensors\n",
            "860/860 [==============================] - 78s 91ms/step - loss: 0.7526 - accuracy: 0.7391 - val_loss: 0.8774 - val_accuracy: 0.7047\n",
            "Epoch 20/32\n",
            "859/860 [============================>.] - ETA: 0s - loss: 0.7299 - accuracy: 0.7459\n",
            "Epoch 20: saving model to Weight_of_model/Masked/cat_data_inc.safetensors\n",
            "860/860 [==============================] - 78s 91ms/step - loss: 0.7298 - accuracy: 0.7459 - val_loss: 0.9165 - val_accuracy: 0.6949\n",
            "Epoch 21/32\n",
            "859/860 [============================>.] - ETA: 0s - loss: 0.7197 - accuracy: 0.7493\n",
            "Epoch 21: saving model to Weight_of_model/Masked/cat_data_inc.safetensors\n",
            "860/860 [==============================] - 78s 91ms/step - loss: 0.7197 - accuracy: 0.7493 - val_loss: 0.8969 - val_accuracy: 0.6982\n",
            "Epoch 22/32\n",
            "859/860 [============================>.] - ETA: 0s - loss: 0.7111 - accuracy: 0.7514\n",
            "Epoch 22: saving model to Weight_of_model/Masked/cat_data_inc.safetensors\n",
            "860/860 [==============================] - 78s 91ms/step - loss: 0.7111 - accuracy: 0.7514 - val_loss: 0.8155 - val_accuracy: 0.7271\n",
            "Epoch 23/32\n",
            "859/860 [============================>.] - ETA: 0s - loss: 0.6921 - accuracy: 0.7578\n",
            "Epoch 23: saving model to Weight_of_model/Masked/cat_data_inc.safetensors\n",
            "860/860 [==============================] - 78s 90ms/step - loss: 0.6922 - accuracy: 0.7578 - val_loss: 0.8105 - val_accuracy: 0.7288\n",
            "Epoch 24/32\n",
            "859/860 [============================>.] - ETA: 0s - loss: 0.6847 - accuracy: 0.7608\n",
            "Epoch 24: saving model to Weight_of_model/Masked/cat_data_inc.safetensors\n",
            "860/860 [==============================] - 78s 91ms/step - loss: 0.6847 - accuracy: 0.7608 - val_loss: 0.8611 - val_accuracy: 0.7117\n",
            "Epoch 25/32\n",
            "859/860 [============================>.] - ETA: 0s - loss: 0.6680 - accuracy: 0.7643\n",
            "Epoch 25: saving model to Weight_of_model/Masked/cat_data_inc.safetensors\n",
            "860/860 [==============================] - 78s 90ms/step - loss: 0.6681 - accuracy: 0.7643 - val_loss: 0.8259 - val_accuracy: 0.7279\n",
            "Epoch 26/32\n",
            "859/860 [============================>.] - ETA: 0s - loss: 0.6569 - accuracy: 0.7695\n",
            "Epoch 26: saving model to Weight_of_model/Masked/cat_data_inc.safetensors\n",
            "860/860 [==============================] - 78s 91ms/step - loss: 0.6569 - accuracy: 0.7695 - val_loss: 0.8083 - val_accuracy: 0.7302\n",
            "Epoch 27/32\n",
            "859/860 [============================>.] - ETA: 0s - loss: 0.6404 - accuracy: 0.7763\n",
            "Epoch 27: saving model to Weight_of_model/Masked/cat_data_inc.safetensors\n",
            "860/860 [==============================] - 78s 91ms/step - loss: 0.6405 - accuracy: 0.7762 - val_loss: 0.8663 - val_accuracy: 0.7134\n",
            "Epoch 28/32\n",
            "859/860 [============================>.] - ETA: 0s - loss: 0.6312 - accuracy: 0.7791\n",
            "Epoch 28: saving model to Weight_of_model/Masked/cat_data_inc.safetensors\n",
            "860/860 [==============================] - 78s 91ms/step - loss: 0.6312 - accuracy: 0.7791 - val_loss: 0.8247 - val_accuracy: 0.7252\n",
            "Epoch 29/32\n",
            "859/860 [============================>.] - ETA: 0s - loss: 0.6240 - accuracy: 0.7819\n",
            "Epoch 29: saving model to Weight_of_model/Masked/cat_data_inc.safetensors\n",
            "860/860 [==============================] - 78s 91ms/step - loss: 0.6242 - accuracy: 0.7818 - val_loss: 0.8515 - val_accuracy: 0.7232\n",
            "Epoch 30/32\n",
            "859/860 [============================>.] - ETA: 0s - loss: 0.6095 - accuracy: 0.7854\n",
            "Epoch 30: saving model to Weight_of_model/Masked/cat_data_inc.safetensors\n",
            "860/860 [==============================] - 78s 91ms/step - loss: 0.6096 - accuracy: 0.7854 - val_loss: 0.8358 - val_accuracy: 0.7275\n",
            "Epoch 31/32\n",
            "859/860 [============================>.] - ETA: 0s - loss: 0.6015 - accuracy: 0.7883\n",
            "Epoch 31: saving model to Weight_of_model/Masked/cat_data_inc.safetensors\n",
            "860/860 [==============================] - 78s 90ms/step - loss: 0.6015 - accuracy: 0.7883 - val_loss: 0.7959 - val_accuracy: 0.7379\n",
            "Epoch 32/32\n",
            "859/860 [============================>.] - ETA: 0s - loss: 0.5919 - accuracy: 0.7905\n",
            "Epoch 32: saving model to Weight_of_model/Masked/cat_data_inc.safetensors\n",
            "860/860 [==============================] - 78s 90ms/step - loss: 0.5919 - accuracy: 0.7905 - val_loss: 0.8398 - val_accuracy: 0.7244\n"
          ]
        },
        {
          "output_type": "execute_result",
          "data": {
            "text/plain": [
              "<keras.src.callbacks.History at 0x7a1e6e2c5180>"
            ]
          },
          "metadata": {},
          "execution_count": 21
        }
      ],
      "source": [
        "#学習時には実行する\n",
        "NUMBER_OF_EPOCH = 32\n",
        "BATCH_SIZE = 128\n",
        "\n",
        "model_color_masked = create_3Dmodel()\n",
        "\n",
        "# モデルの学習\n",
        "model_color_masked.fit(X_train_masked[split_index[0][0]], y_train[split_index[0][0]],\n",
        "                      batch_size=BATCH_SIZE,\n",
        "                      epochs=NUMBER_OF_EPOCH,\n",
        "                      verbose=1,\n",
        "                      validation_data=(X_train_masked[split_index[0][1]], y_train[split_index[0][1]]),\n",
        "                      callbacks=[cp_callback])\n",
        "\n",
        "#上記の5万データ + 64ephoc\n",
        "#loss: 0.1717 - accuracy: 0.9413 - val_loss: 1.1171 - val_accuracy: 0.7557\n",
        "\n",
        "#epoch32 データ拡張(データ合計15万)\n",
        "#loss: 0.5442 - accuracy: 0.8089 - val_loss: 0.8114 - val_accuracy: 0.7362"
      ]
    },
    {
      "cell_type": "code",
      "source": [
        "plot_history_of_model(model_color_masked)"
      ],
      "metadata": {
        "colab": {
          "base_uri": "https://localhost:8080/",
          "height": 926
        },
        "id": "8Cu7rL-W3duZ",
        "outputId": "a1cb98ef-6cda-49d7-f1e2-ce3a2d484540"
      },
      "execution_count": null,
      "outputs": [
        {
          "output_type": "stream",
          "name": "stdout",
          "text": [
            "{'loss': [1.858224630355835, 1.5700809955596924, 1.387559413909912, 1.2552542686462402, 1.1676548719406128, 1.1023659706115723, 1.0553914308547974, 1.0105184316635132, 0.9733289480209351, 0.9425948262214661, 0.9130635857582092, 0.8911875486373901, 0.8657838106155396, 0.841191828250885, 0.825988233089447, 0.8032456040382385, 0.7850242257118225, 0.7661841511726379, 0.7526094317436218, 0.7298485040664673, 0.7197204828262329, 0.7111498713493347, 0.6921513676643372, 0.6846725344657898, 0.668104350566864, 0.6568887829780579, 0.6404602527618408, 0.6312060356140137, 0.6242024302482605, 0.6095792651176453, 0.6015132069587708, 0.591855525970459], 'accuracy': [0.33764544129371643, 0.44351819157600403, 0.5124363899230957, 0.5637545585632324, 0.5950000286102295, 0.6162545680999756, 0.6355000138282776, 0.6495181918144226, 0.6614000201225281, 0.6720545291900635, 0.684109091758728, 0.6905999779701233, 0.6993181705474854, 0.7068363428115845, 0.7127909064292908, 0.7207363843917847, 0.7264090776443481, 0.7337999939918518, 0.7390999794006348, 0.7458817958831787, 0.7492636442184448, 0.7513636350631714, 0.7577636241912842, 0.7607908844947815, 0.7642999887466431, 0.7695272564888, 0.7761909365653992, 0.779127299785614, 0.7818454504013062, 0.7854090929031372, 0.7882909178733826, 0.7905363440513611], 'val_loss': [1.6710259914398193, 1.4709211587905884, 1.3357843160629272, 1.202991008758545, 1.0964356660842896, 1.1203986406326294, 1.1499254703521729, 1.0706608295440674, 1.094042420387268, 0.961624264717102, 0.9049174785614014, 0.9365242123603821, 0.8935397267341614, 0.938820481300354, 0.8735059499740601, 0.8647971749305725, 0.847123384475708, 0.8545243144035339, 0.8773566484451294, 0.9164926409721375, 0.8969137668609619, 0.8155378699302673, 0.8105262517929077, 0.8610983490943909, 0.8258683085441589, 0.8083248138427734, 0.866293728351593, 0.8247373700141907, 0.8515379428863525, 0.8358158469200134, 0.7959243655204773, 0.8398059606552124], 'val_accuracy': [0.4087272584438324, 0.48505455255508423, 0.5347999930381775, 0.5804727077484131, 0.6181091070175171, 0.6173272728919983, 0.5990727543830872, 0.6271818280220032, 0.6261272430419922, 0.6697272658348083, 0.6881272792816162, 0.6796363592147827, 0.693854570388794, 0.6818000078201294, 0.7018181681632996, 0.7063636183738708, 0.7128000259399414, 0.7110727429389954, 0.7047454714775085, 0.6948909163475037, 0.6982181668281555, 0.7270727157592773, 0.7287636399269104, 0.7117090821266174, 0.7279272675514221, 0.7302363514900208, 0.7134000062942505, 0.7252181768417358, 0.7231818437576294, 0.727472722530365, 0.7379454374313354, 0.724399983882904]}\n"
          ]
        },
        {
          "output_type": "display_data",
          "data": {
            "text/plain": [
              "<Figure size 640x480 with 1 Axes>"
            ],
            "image/png": "[encoded data removed]"
          },
          "metadata": {}
        },
        {
          "output_type": "display_data",
          "data": {
            "text/plain": [
              "<Figure size 640x480 with 1 Axes>"
            ],
            "image/png": "[encoded data removed]"
          },
          "metadata": {}
        }
      ]
    },
    {
      "cell_type": "code",
      "source": [
        "\"\"\"\n",
        "#保存した重みを読み込み、精度を出力\n",
        "model_color_masked = create_3Dmodel()\n",
        "\n",
        "model_color_masked.load_weights(checkpoint_path)\n",
        "\n",
        "loss, acc = model_color_masked.evaluate(X_test_masked, y_test, verbose=2)\n",
        "print(\"Untrained model, accuracy: {:5.2f}%\".format(100 * acc))\n",
        "\"\"\""
      ],
      "metadata": {
        "id": "W1PyWuuPqVjO",
        "colab": {
          "base_uri": "https://localhost:8080/"
        },
        "outputId": "2cb65700-915f-4a85-94e8-70c4a64628c7"
      },
      "execution_count": null,
      "outputs": [
        {
          "output_type": "stream",
          "name": "stdout",
          "text": [
            "313/313 - 8s - loss: 0.6461 - accuracy: 0.8071 - 8s/epoch - 27ms/step\n",
            "Untrained model, accuracy: 80.71%\n"
          ]
        }
      ]
    },
    {
      "cell_type": "code",
      "source": [
        "del X_train_masked\n",
        "\n",
        "gc.collect()"
      ],
      "metadata": {
        "id": "uQ0Cv1RjvDKL",
        "colab": {
          "base_uri": "https://localhost:8080/"
        },
        "outputId": "d3aa37e8-aba0-462e-c38d-19fdd2739554"
      },
      "execution_count": null,
      "outputs": [
        {
          "output_type": "execute_result",
          "data": {
            "text/plain": [
              "5309"
            ]
          },
          "metadata": {},
          "execution_count": 23
        }
      ]
    },
    {
      "cell_type": "code",
      "source": [
        "pred_color_masked = model_color_masked.predict(X_test_masked)\n",
        "\n",
        "count = 0\n",
        "for i in range(len(X_test_masked)):\n",
        "    if np.argmax(pred_color_masked[i]) == np.argmax(y_test[i]):\n",
        "        count +=1\n",
        "\n",
        "print(\"accuracy :\",count/len(X_test_masked))"
      ],
      "metadata": {
        "id": "t-E_g225rD_M",
        "colab": {
          "base_uri": "https://localhost:8080/"
        },
        "outputId": "4bce1190-e862-4e82-f664-a456815ef0f5"
      },
      "execution_count": null,
      "outputs": [
        {
          "output_type": "stream",
          "name": "stdout",
          "text": [
            "313/313 [==============================] - 2s 6ms/step\n",
            "accuracy : 0.7945\n"
          ]
        }
      ]
    },
    {
      "cell_type": "code",
      "source": [
        "del X_test_masked\n",
        "\n",
        "gc.collect()"
      ],
      "metadata": {
        "id": "l5jBONoe0_aR",
        "colab": {
          "base_uri": "https://localhost:8080/"
        },
        "outputId": "fa2564df-ffcb-4e52-d56d-e8444aee5726"
      },
      "execution_count": null,
      "outputs": [
        {
          "output_type": "execute_result",
          "data": {
            "text/plain": [
              "645"
            ]
          },
          "metadata": {},
          "execution_count": 25
        }
      ]
    },
    {
      "cell_type": "markdown",
      "source": [
        "# グレースケール化した画像にマスクを適応させた画像についての分類モデル"
      ],
      "metadata": {
        "id": "E9753zVX5Q_r"
      }
    },
    {
      "cell_type": "code",
      "source": [
        "(X_train,y_train),(X_test,y_test) = load()"
      ],
      "metadata": {
        "colab": {
          "base_uri": "https://localhost:8080/"
        },
        "outputId": "960c4923-c6bf-4af2-9b21-570fdfe9a741",
        "id": "-FPRs6M905Ds"
      },
      "execution_count": null,
      "outputs": [
        {
          "output_type": "stream",
          "name": "stdout",
          "text": [
            "default X_train's shape is (50000, 32, 32, 3)\n",
            "default y_train's shape is (50000, 1) \n",
            "\n",
            "(150000, 32, 32, 3)\n"
          ]
        }
      ]
    },
    {
      "cell_type": "code",
      "source": [
        "X_cat = X_train[np.where(y_train == 3)[0]]\n",
        "\n",
        "tf.random.set_seed(SEED)\n",
        "\n",
        "params = {\"zoom_range\" : 0.3,\n",
        "        \"horizontal_flip\" : True,\n",
        "        \"rotation_range\" : 30,\n",
        "        \"height_shift_range\": 0.1,\n",
        "        \"width_shift_range\": 0.1,\n",
        "        \"channel_shift_range\": 0.3}\n",
        "\n",
        "#データ拡張用オブジェクトの定義\n",
        "data_generator = keras.preprocessing.image.ImageDataGenerator(**params)\n",
        "\n",
        "# 同じ画像を複製する\n",
        "train_aug = X_cat.copy()\n",
        "\n",
        "y_aug = y_train[np.where(y_train == 3)[0]]\n",
        "\n",
        "#データ拡張\n",
        "generator = data_generator.flow(train_aug, y_aug, batch_size=15000)\n",
        "\n",
        "# 変換後のデータを取得\n",
        "batch_x = generator.next()\n",
        "\n",
        "X_train = np.concatenate([X_train,batch_x[0]])\n",
        "y_train = np.concatenate([y_train,batch_x[1]])\n",
        "\n",
        "print(X_train.shape)\n",
        "print(y_train.shape)"
      ],
      "metadata": {
        "colab": {
          "base_uri": "https://localhost:8080/"
        },
        "id": "ACpfNOVRJ0s7",
        "outputId": "c961ba1d-a742-4649-e59f-2f5675956673"
      },
      "execution_count": null,
      "outputs": [
        {
          "output_type": "stream",
          "name": "stdout",
          "text": [
            "(165000, 32, 32, 3)\n",
            "(165000, 1)\n"
          ]
        }
      ]
    },
    {
      "cell_type": "markdown",
      "source": [
        "前回のモデル作成時に行ったマスク処理を施す。"
      ],
      "metadata": {
        "id": "YX8Wb_fWMoCq"
      }
    },
    {
      "cell_type": "code",
      "source": [
        "X_train_masked = X_train.copy()\n",
        "X_test_masked = X_test.copy()\n",
        "for i in range(X_train.shape[0]):\n",
        "    X_train_masked[i][outer_disk_mask] = 0\n",
        "for i in range(X_test.shape[0]):\n",
        "    X_test_masked[i][outer_disk_mask] = 0"
      ],
      "metadata": {
        "id": "Zvk9fvsH5sO8"
      },
      "execution_count": null,
      "outputs": []
    },
    {
      "cell_type": "code",
      "source": [
        "del X_train,X_test,outer_disk_mask\n",
        "gc.collect()"
      ],
      "metadata": {
        "id": "misDuMf-8ce_",
        "colab": {
          "base_uri": "https://localhost:8080/"
        },
        "outputId": "e8e30293-486b-44b2-8ea2-3c0e13dda93b"
      },
      "execution_count": null,
      "outputs": [
        {
          "output_type": "execute_result",
          "data": {
            "text/plain": [
              "0"
            ]
          },
          "metadata": {},
          "execution_count": 29
        }
      ]
    },
    {
      "cell_type": "markdown",
      "source": [
        "グレースケール化を施す。"
      ],
      "metadata": {
        "id": "G5Kfw-Z1MwBC"
      }
    },
    {
      "cell_type": "code",
      "execution_count": null,
      "metadata": {
        "colab": {
          "base_uri": "https://localhost:8080/"
        },
        "id": "oLruPHdxdvSq",
        "outputId": "6921ed39-1ce7-4d1e-e403-6b0ecfd04202"
      },
      "outputs": [
        {
          "output_type": "stream",
          "name": "stdout",
          "text": [
            "X_train_masked_gray's shape is (165000, 32, 32)\n",
            "X_test_masked_gray's shape is (10000, 32, 32)\n"
          ]
        }
      ],
      "source": [
        "X_train_masked_gray = np.empty((X_train_masked.shape[0],32,32))\n",
        "\n",
        "for i in range(X_train_masked.shape[0]):\n",
        "    im_gray = cv2.cvtColor(X_train_masked[i], cv2.COLOR_BGR2GRAY)\n",
        "    X_train_masked_gray[i] = im_gray\n",
        "\n",
        "print(\"X_train_masked_gray's shape is\",X_train_masked_gray.shape)\n",
        "\n",
        "\n",
        "X_test_masked_gray = np.empty((X_test_masked.shape[0],X_test_masked.shape[1],X_test_masked.shape[2]))\n",
        "\n",
        "for i in range(X_test_masked.shape[0]):\n",
        "    im_gray = cv2.cvtColor(X_test_masked[i], cv2.COLOR_BGR2GRAY)\n",
        "    X_test_masked_gray[i] = im_gray\n",
        "\n",
        "print(\"X_test_masked_gray's shape is\",X_test_masked_gray.shape)"
      ]
    },
    {
      "cell_type": "code",
      "source": [
        "del X_train_masked,X_test_masked\n",
        "gc.collect()"
      ],
      "metadata": {
        "colab": {
          "base_uri": "https://localhost:8080/"
        },
        "id": "NvqsBgolSkEo",
        "outputId": "eabd12c4-cdc6-4871-9666-411aac0b5a0d"
      },
      "execution_count": null,
      "outputs": [
        {
          "output_type": "execute_result",
          "data": {
            "text/plain": [
              "0"
            ]
          },
          "metadata": {},
          "execution_count": 31
        }
      ]
    },
    {
      "cell_type": "code",
      "execution_count": null,
      "metadata": {
        "colab": {
          "base_uri": "https://localhost:8080/"
        },
        "outputId": "0aee59f3-b816-4f89-9c2b-7f7f6308a57d",
        "id": "3wRbIBNb9Wwi"
      },
      "outputs": [
        {
          "output_type": "stream",
          "name": "stdout",
          "text": [
            "y_train's shape after change to one-hot vec is (165000, 10)\n"
          ]
        }
      ],
      "source": [
        "#データをkerasが読み取れる形式に変換する(one-hotベクトル)\n",
        "y_train = keras.utils.to_categorical(y_train, NUM_CLASSES)\n",
        "y_test = keras.utils.to_categorical(y_test, NUM_CLASSES)\n",
        "print(\"y_train's shape after change to one-hot vec is\",y_train.shape)"
      ]
    },
    {
      "cell_type": "code",
      "source": [
        "#checkpointの設定\n",
        "checkpoint_path,cp_callback = create_checkpoint(\"重みを保存するファイルのパスをここに記載\")"
      ],
      "metadata": {
        "id": "qTS0zYT0_xs9",
        "colab": {
          "base_uri": "https://localhost:8080/",
          "height": 55
        },
        "outputId": "b4cd9a30-82d3-4ca9-b215-728deefa623b"
      },
      "execution_count": null,
      "outputs": [
        {
          "output_type": "execute_result",
          "data": {
            "text/plain": [
              "'#model作成\\ninput_size  = (img_rows,img_cols,1)\\nmodel_masked_gray = create_2Dmodel(input_size)\\n#重みのロード\\nmodel_masked_gray.load_weights(checkpoint_path)\\n\\nloss, acc = model_masked_gray.evaluate(X_test_masked_gray, y_test, verbose=2)\\nprint(\"Untrained model, accuracy: {:5.2f}%\".format(100 * acc))'"
            ],
            "application/vnd.google.colaboratory.intrinsic+json": {
              "type": "string"
            }
          },
          "metadata": {},
          "execution_count": 33
        }
      ]
    },
    {
      "cell_type": "code",
      "execution_count": null,
      "metadata": {
        "colab": {
          "base_uri": "https://localhost:8080/"
        },
        "id": "e34vtMNodvSt",
        "outputId": "3fda2418-2958-4902-e6f2-866418b1f27d"
      },
      "outputs": [
        {
          "output_type": "stream",
          "name": "stdout",
          "text": [
            "Epoch 1/32\n",
            "860/860 [==============================] - ETA: 0s - loss: 1.8440 - accuracy: 0.3379\n",
            "Epoch 1: saving model to Weight_of_model/Masked_and_Gray/cat_data_inc.safetensors\n",
            "860/860 [==============================] - 45s 45ms/step - loss: 1.8440 - accuracy: 0.3379 - val_loss: 1.6834 - val_accuracy: 0.4030\n",
            "Epoch 2/32\n",
            "859/860 [============================>.] - ETA: 0s - loss: 1.4974 - accuracy: 0.4730\n",
            "Epoch 2: saving model to Weight_of_model/Masked_and_Gray/cat_data_inc.safetensors\n",
            "860/860 [==============================] - 36s 42ms/step - loss: 1.4973 - accuracy: 0.4730 - val_loss: 1.4141 - val_accuracy: 0.5181\n",
            "Epoch 3/32\n",
            "859/860 [============================>.] - ETA: 0s - loss: 1.3019 - accuracy: 0.5465\n",
            "Epoch 3: saving model to Weight_of_model/Masked_and_Gray/cat_data_inc.safetensors\n",
            "860/860 [==============================] - 37s 43ms/step - loss: 1.3018 - accuracy: 0.5465 - val_loss: 1.2846 - val_accuracy: 0.5630\n",
            "Epoch 4/32\n",
            "859/860 [============================>.] - ETA: 0s - loss: 1.1766 - accuracy: 0.5923\n",
            "Epoch 4: saving model to Weight_of_model/Masked_and_Gray/cat_data_inc.safetensors\n",
            "860/860 [==============================] - 36s 42ms/step - loss: 1.1767 - accuracy: 0.5923 - val_loss: 1.1547 - val_accuracy: 0.6060\n",
            "Epoch 5/32\n",
            "859/860 [============================>.] - ETA: 0s - loss: 1.0914 - accuracy: 0.6221\n",
            "Epoch 5: saving model to Weight_of_model/Masked_and_Gray/cat_data_inc.safetensors\n",
            "860/860 [==============================] - 36s 41ms/step - loss: 1.0913 - accuracy: 0.6221 - val_loss: 1.1104 - val_accuracy: 0.6203\n",
            "Epoch 6/32\n",
            "859/860 [============================>.] - ETA: 0s - loss: 1.0276 - accuracy: 0.6441\n",
            "Epoch 6: saving model to Weight_of_model/Masked_and_Gray/cat_data_inc.safetensors\n",
            "860/860 [==============================] - 37s 43ms/step - loss: 1.0275 - accuracy: 0.6441 - val_loss: 1.0449 - val_accuracy: 0.6440\n",
            "Epoch 7/32\n",
            "859/860 [============================>.] - ETA: 0s - loss: 0.9797 - accuracy: 0.6620\n",
            "Epoch 7: saving model to Weight_of_model/Masked_and_Gray/cat_data_inc.safetensors\n",
            "860/860 [==============================] - 37s 43ms/step - loss: 0.9796 - accuracy: 0.6620 - val_loss: 0.9959 - val_accuracy: 0.6626\n",
            "Epoch 8/32\n",
            "859/860 [============================>.] - ETA: 0s - loss: 0.9330 - accuracy: 0.6781\n",
            "Epoch 8: saving model to Weight_of_model/Masked_and_Gray/cat_data_inc.safetensors\n",
            "860/860 [==============================] - 35s 41ms/step - loss: 0.9331 - accuracy: 0.6780 - val_loss: 0.9777 - val_accuracy: 0.6737\n",
            "Epoch 9/32\n",
            "859/860 [============================>.] - ETA: 0s - loss: 0.9030 - accuracy: 0.6876\n",
            "Epoch 9: saving model to Weight_of_model/Masked_and_Gray/cat_data_inc.safetensors\n",
            "860/860 [==============================] - 35s 41ms/step - loss: 0.9031 - accuracy: 0.6875 - val_loss: 0.9482 - val_accuracy: 0.6789\n",
            "Epoch 10/32\n",
            "859/860 [============================>.] - ETA: 0s - loss: 0.8745 - accuracy: 0.6969\n",
            "Epoch 10: saving model to Weight_of_model/Masked_and_Gray/cat_data_inc.safetensors\n",
            "860/860 [==============================] - 35s 41ms/step - loss: 0.8746 - accuracy: 0.6969 - val_loss: 0.9407 - val_accuracy: 0.6813\n",
            "Epoch 11/32\n",
            "859/860 [============================>.] - ETA: 0s - loss: 0.8504 - accuracy: 0.7040\n",
            "Epoch 11: saving model to Weight_of_model/Masked_and_Gray/cat_data_inc.safetensors\n",
            "860/860 [==============================] - 35s 41ms/step - loss: 0.8504 - accuracy: 0.7040 - val_loss: 0.9164 - val_accuracy: 0.6881\n",
            "Epoch 12/32\n",
            "859/860 [============================>.] - ETA: 0s - loss: 0.8237 - accuracy: 0.7137\n",
            "Epoch 12: saving model to Weight_of_model/Masked_and_Gray/cat_data_inc.safetensors\n",
            "860/860 [==============================] - 35s 41ms/step - loss: 0.8237 - accuracy: 0.7137 - val_loss: 0.8917 - val_accuracy: 0.6980\n",
            "Epoch 13/32\n",
            "859/860 [============================>.] - ETA: 0s - loss: 0.8071 - accuracy: 0.7185\n",
            "Epoch 13: saving model to Weight_of_model/Masked_and_Gray/cat_data_inc.safetensors\n",
            "860/860 [==============================] - 35s 41ms/step - loss: 0.8069 - accuracy: 0.7186 - val_loss: 0.9047 - val_accuracy: 0.6897\n",
            "Epoch 14/32\n",
            "859/860 [============================>.] - ETA: 0s - loss: 0.7853 - accuracy: 0.7257\n",
            "Epoch 14: saving model to Weight_of_model/Masked_and_Gray/cat_data_inc.safetensors\n",
            "860/860 [==============================] - 37s 43ms/step - loss: 0.7853 - accuracy: 0.7257 - val_loss: 0.8763 - val_accuracy: 0.7003\n",
            "Epoch 15/32\n",
            "859/860 [============================>.] - ETA: 0s - loss: 0.7640 - accuracy: 0.7338\n",
            "Epoch 15: saving model to Weight_of_model/Masked_and_Gray/cat_data_inc.safetensors\n",
            "860/860 [==============================] - 35s 41ms/step - loss: 0.7640 - accuracy: 0.7338 - val_loss: 0.8685 - val_accuracy: 0.7028\n",
            "Epoch 16/32\n",
            "859/860 [============================>.] - ETA: 0s - loss: 0.7463 - accuracy: 0.7392\n",
            "Epoch 16: saving model to Weight_of_model/Masked_and_Gray/cat_data_inc.safetensors\n",
            "860/860 [==============================] - 37s 43ms/step - loss: 0.7464 - accuracy: 0.7392 - val_loss: 0.8728 - val_accuracy: 0.7027\n",
            "Epoch 17/32\n",
            "859/860 [============================>.] - ETA: 0s - loss: 0.7327 - accuracy: 0.7452\n",
            "Epoch 17: saving model to Weight_of_model/Masked_and_Gray/cat_data_inc.safetensors\n",
            "860/860 [==============================] - 37s 43ms/step - loss: 0.7327 - accuracy: 0.7452 - val_loss: 0.8559 - val_accuracy: 0.7057\n",
            "Epoch 18/32\n",
            "860/860 [==============================] - ETA: 0s - loss: 0.7207 - accuracy: 0.7480\n",
            "Epoch 18: saving model to Weight_of_model/Masked_and_Gray/cat_data_inc.safetensors\n",
            "860/860 [==============================] - 37s 43ms/step - loss: 0.7207 - accuracy: 0.7480 - val_loss: 0.8878 - val_accuracy: 0.6943\n",
            "Epoch 19/32\n",
            "859/860 [============================>.] - ETA: 0s - loss: 0.7094 - accuracy: 0.7520\n",
            "Epoch 19: saving model to Weight_of_model/Masked_and_Gray/cat_data_inc.safetensors\n",
            "860/860 [==============================] - 37s 43ms/step - loss: 0.7094 - accuracy: 0.7520 - val_loss: 0.8706 - val_accuracy: 0.7011\n",
            "Epoch 20/32\n",
            "859/860 [============================>.] - ETA: 0s - loss: 0.7018 - accuracy: 0.7541\n",
            "Epoch 20: saving model to Weight_of_model/Masked_and_Gray/cat_data_inc.safetensors\n",
            "860/860 [==============================] - 35s 41ms/step - loss: 0.7018 - accuracy: 0.7541 - val_loss: 0.8505 - val_accuracy: 0.7078\n",
            "Epoch 21/32\n",
            "859/860 [============================>.] - ETA: 0s - loss: 0.6818 - accuracy: 0.7609\n",
            "Epoch 21: saving model to Weight_of_model/Masked_and_Gray/cat_data_inc.safetensors\n",
            "860/860 [==============================] - 35s 41ms/step - loss: 0.6818 - accuracy: 0.7609 - val_loss: 0.8412 - val_accuracy: 0.7123\n",
            "Epoch 22/32\n",
            "859/860 [============================>.] - ETA: 0s - loss: 0.6747 - accuracy: 0.7628\n",
            "Epoch 22: saving model to Weight_of_model/Masked_and_Gray/cat_data_inc.safetensors\n",
            "860/860 [==============================] - 37s 43ms/step - loss: 0.6747 - accuracy: 0.7628 - val_loss: 0.8833 - val_accuracy: 0.6990\n",
            "Epoch 23/32\n",
            "859/860 [============================>.] - ETA: 0s - loss: 0.6650 - accuracy: 0.7651\n",
            "Epoch 23: saving model to Weight_of_model/Masked_and_Gray/cat_data_inc.safetensors\n",
            "860/860 [==============================] - 37s 43ms/step - loss: 0.6651 - accuracy: 0.7651 - val_loss: 0.8509 - val_accuracy: 0.7069\n",
            "Epoch 24/32\n",
            "859/860 [============================>.] - ETA: 0s - loss: 0.6521 - accuracy: 0.7705\n",
            "Epoch 24: saving model to Weight_of_model/Masked_and_Gray/cat_data_inc.safetensors\n",
            "860/860 [==============================] - 35s 41ms/step - loss: 0.6522 - accuracy: 0.7705 - val_loss: 0.8383 - val_accuracy: 0.7146\n",
            "Epoch 25/32\n",
            "859/860 [============================>.] - ETA: 0s - loss: 0.6417 - accuracy: 0.7754\n",
            "Epoch 25: saving model to Weight_of_model/Masked_and_Gray/cat_data_inc.safetensors\n",
            "860/860 [==============================] - 35s 41ms/step - loss: 0.6419 - accuracy: 0.7753 - val_loss: 0.8524 - val_accuracy: 0.7095\n",
            "Epoch 26/32\n",
            "405/860 [=============>................] - ETA: 16s - loss: 0.6293 - accuracy: 0.7781"
          ]
        }
      ],
      "source": [
        "#https://qiita.com/yy1003/items/c590d1a26918e4abe512やhttps://deepage.net/deep_learning/2016/10/26/batch_normalization.html参照\n",
        "\n",
        "NUMBER_OF_EPOCH = 32\n",
        "BATCH_SIZE = 128\n",
        "\n",
        "input_size  = (img_rows,img_cols,1)\n",
        "\n",
        "model_masked_gray = create_2Dmodel(input_size)\n",
        "\n",
        "model_masked_gray.fit(X_train_masked_gray[split_index[0][0]], y_train[split_index[0][0]],\n",
        "                      batch_size=BATCH_SIZE,\n",
        "                      epochs=NUMBER_OF_EPOCH,\n",
        "                      verbose=1,\n",
        "                      validation_data=(X_train_masked_gray[split_index[0][1]], y_train[split_index[0][1]]),\n",
        "                      callbacks=[cp_callback])\n",
        "\n",
        "plot_history_of_model(model_masked_gray)\n",
        "\n",
        "#データ10万\n",
        "#loss: 0.6154 - accuracy: 0.7827 - val_loss: 0.8706 - val_accuracy: 0.7143\n",
        "\n",
        "#batch256 epoch32\n",
        "#loss: 0.6961 - accuracy: 0.7540 - val_loss: 1.0634 - val_accuracy: 0.6479\n",
        "\n",
        "#epoch32 データ数15万\n",
        "# loss: 0.5129 - accuracy: 0.8185 - val_loss: 0.8343 - val_accuracy: 0.7217"
      ]
    },
    {
      "cell_type": "code",
      "source": [
        "\"\"\"\n",
        "#model作成\n",
        "input_size  = (img_rows,img_cols,1)\n",
        "model_masked_gray = create_2Dmodel(input_size)\n",
        "#保存済み重みのロード\n",
        "model_masked_gray.load_weights(checkpoint_path)\n",
        "\n",
        "loss, acc = model_masked_gray.evaluate(X_test_masked_gray, y_test, verbose=2)\n",
        "print(\"Untrained model, accuracy: {:5.2f}%\".format(100 * acc))\n",
        "\"\"\""
      ],
      "metadata": {
        "id": "3QnwHB3jWhcs"
      },
      "execution_count": null,
      "outputs": []
    },
    {
      "cell_type": "code",
      "source": [
        "del X_train_masked_gray\n",
        "gc.collect()"
      ],
      "metadata": {
        "id": "EN7jJuLD8qgb",
        "colab": {
          "base_uri": "https://localhost:8080/"
        },
        "outputId": "5c727411-f41e-49b5-8577-2434eb79cc93"
      },
      "execution_count": null,
      "outputs": [
        {
          "output_type": "execute_result",
          "data": {
            "text/plain": [
              "677"
            ]
          },
          "metadata": {},
          "execution_count": 31
        }
      ]
    },
    {
      "cell_type": "code",
      "execution_count": null,
      "metadata": {
        "colab": {
          "base_uri": "https://localhost:8080/"
        },
        "outputId": "21a828ab-93a4-4729-91a8-a32ff7f89c05",
        "id": "q3pvaT5B8QFR"
      },
      "outputs": [
        {
          "output_type": "stream",
          "name": "stdout",
          "text": [
            "313/313 [==============================] - 1s 3ms/step\n",
            "accuracy : 0.7775\n"
          ]
        }
      ],
      "source": [
        "pred_masked_gray = model_masked_gray.predict(X_test_masked_gray)\n",
        "\n",
        "count = 0\n",
        "for i in range(len(X_test_masked_gray)):\n",
        "    if np.argmax(pred_masked_gray[i]) == np.argmax(y_test[i]):\n",
        "        count +=1\n",
        "\n",
        "print(\"accuracy :\",count/len(X_test_masked_gray))"
      ]
    },
    {
      "cell_type": "code",
      "source": [
        "del X_test_masked_gray,model_masked_gray\n",
        "gc.collect()"
      ],
      "metadata": {
        "id": "LHuTzmzr80Hd",
        "colab": {
          "base_uri": "https://localhost:8080/"
        },
        "outputId": "6065d490-8ff9-43ba-8d39-42d096b15fc8"
      },
      "execution_count": null,
      "outputs": [
        {
          "output_type": "execute_result",
          "data": {
            "text/plain": [
              "645"
            ]
          },
          "metadata": {},
          "execution_count": 33
        }
      ]
    },
    {
      "cell_type": "markdown",
      "source": [
        "# 元データをグレースケール化したデータの分類モデル"
      ],
      "metadata": {
        "id": "YFGyssor-d5m"
      }
    },
    {
      "cell_type": "code",
      "source": [
        "(X_train,y_train),(X_test,y_test) = load()"
      ],
      "metadata": {
        "colab": {
          "base_uri": "https://localhost:8080/"
        },
        "outputId": "26f13113-c9a0-4c67-c697-7e92e18a7342",
        "id": "DmSkj7Tf17gl"
      },
      "execution_count": null,
      "outputs": [
        {
          "output_type": "stream",
          "name": "stdout",
          "text": [
            "default X_train's shape is (50000, 32, 32, 3)\n",
            "default y_train's shape is (50000, 1) \n",
            "\n",
            "(150000, 32, 32, 3)\n"
          ]
        }
      ]
    },
    {
      "cell_type": "code",
      "source": [
        "X_cat = X_train[np.where(y_train == 3)[0]]\n",
        "\n",
        "tf.random.set_seed(SEED)\n",
        "\n",
        "params = {\"zoom_range\" : 0.3,\n",
        "        \"horizontal_flip\" : True,\n",
        "        \"rotation_range\" : 30,\n",
        "        \"height_shift_range\": 0.1,\n",
        "        \"width_shift_range\": 0.1,\n",
        "        \"channel_shift_range\": 0.3}\n",
        "\n",
        "#データ拡張用オブジェクトの定義\n",
        "data_generator = keras.preprocessing.image.ImageDataGenerator(**params)\n",
        "\n",
        "# 同じ画像を複製する\n",
        "train_aug = X_cat.copy()\n",
        "\n",
        "y_aug = y_train[np.where(y_train == 3)[0]]\n",
        "\n",
        "#データ拡張\n",
        "generator = data_generator.flow(train_aug, y_aug, batch_size=15000)\n",
        "\n",
        "# 変換後のデータを取得\n",
        "batch_x = generator.next()\n",
        "\n",
        "X_train = np.concatenate([X_train,batch_x[0]])\n",
        "y_train = np.concatenate([y_train,batch_x[1]])\n",
        "\n",
        "print(X_train.shape)\n",
        "print(y_train.shape)"
      ],
      "metadata": {
        "id": "k61KZcBrJ20M"
      },
      "execution_count": null,
      "outputs": []
    },
    {
      "cell_type": "markdown",
      "source": [
        "グレースケール化を施す。"
      ],
      "metadata": {
        "id": "fOOtcPlKM9Dm"
      }
    },
    {
      "cell_type": "code",
      "execution_count": null,
      "metadata": {
        "colab": {
          "base_uri": "https://localhost:8080/"
        },
        "outputId": "f5c2575f-a8d3-461b-aa5e-17d3a91aa704",
        "id": "cVoaN3u5--M_"
      },
      "outputs": [
        {
          "output_type": "stream",
          "name": "stdout",
          "text": [
            "X_train_gray's shape is (150000, 32, 32)\n",
            "X_test_gray's shape is (10000, 32, 32)\n"
          ]
        },
        {
          "output_type": "stream",
          "name": "stderr",
          "text": [
            "WARNING:tensorflow:Detecting that an object or model or tf.train.Checkpoint is being deleted with unrestored values. See the following logs for the specific values in question. To silence these warnings, use `status.expect_partial()`. See https://www.tensorflow.org/api_docs/python/tf/train/Checkpoint#restorefor details about the status object returned by the restore function.\n",
            "WARNING:tensorflow:Value in checkpoint could not be found in the restored object: (root).optimizer._variables.1\n",
            "WARNING:tensorflow:Value in checkpoint could not be found in the restored object: (root).optimizer._variables.2\n",
            "WARNING:tensorflow:Value in checkpoint could not be found in the restored object: (root).optimizer._variables.3\n",
            "WARNING:tensorflow:Value in checkpoint could not be found in the restored object: (root).optimizer._variables.4\n",
            "WARNING:tensorflow:Value in checkpoint could not be found in the restored object: (root).optimizer._variables.5\n",
            "WARNING:tensorflow:Value in checkpoint could not be found in the restored object: (root).optimizer._variables.6\n",
            "WARNING:tensorflow:Value in checkpoint could not be found in the restored object: (root).optimizer._variables.7\n",
            "WARNING:tensorflow:Value in checkpoint could not be found in the restored object: (root).optimizer._variables.8\n",
            "WARNING:tensorflow:Value in checkpoint could not be found in the restored object: (root).optimizer._variables.9\n",
            "WARNING:tensorflow:Value in checkpoint could not be found in the restored object: (root).optimizer._variables.10\n",
            "WARNING:tensorflow:Value in checkpoint could not be found in the restored object: (root).optimizer._variables.11\n",
            "WARNING:tensorflow:Value in checkpoint could not be found in the restored object: (root).optimizer._variables.12\n",
            "WARNING:tensorflow:Value in checkpoint could not be found in the restored object: (root).optimizer._variables.13\n",
            "WARNING:tensorflow:Value in checkpoint could not be found in the restored object: (root).optimizer._variables.14\n",
            "WARNING:tensorflow:Value in checkpoint could not be found in the restored object: (root).optimizer._variables.15\n",
            "WARNING:tensorflow:Value in checkpoint could not be found in the restored object: (root).optimizer._variables.16\n",
            "WARNING:tensorflow:Value in checkpoint could not be found in the restored object: (root).optimizer._variables.17\n",
            "WARNING:tensorflow:Value in checkpoint could not be found in the restored object: (root).optimizer._variables.18\n",
            "WARNING:tensorflow:Value in checkpoint could not be found in the restored object: (root).optimizer._variables.19\n",
            "WARNING:tensorflow:Value in checkpoint could not be found in the restored object: (root).optimizer._variables.20\n",
            "WARNING:tensorflow:Value in checkpoint could not be found in the restored object: (root).optimizer._variables.21\n",
            "WARNING:tensorflow:Value in checkpoint could not be found in the restored object: (root).optimizer._variables.22\n",
            "WARNING:tensorflow:Value in checkpoint could not be found in the restored object: (root).optimizer._variables.23\n",
            "WARNING:tensorflow:Value in checkpoint could not be found in the restored object: (root).optimizer._variables.24\n",
            "WARNING:tensorflow:Value in checkpoint could not be found in the restored object: (root).optimizer._variables.25\n",
            "WARNING:tensorflow:Value in checkpoint could not be found in the restored object: (root).optimizer._variables.26\n",
            "WARNING:tensorflow:Value in checkpoint could not be found in the restored object: (root).optimizer._variables.27\n",
            "WARNING:tensorflow:Value in checkpoint could not be found in the restored object: (root).optimizer._variables.28\n",
            "WARNING:tensorflow:Value in checkpoint could not be found in the restored object: (root).optimizer._variables.29\n",
            "WARNING:tensorflow:Value in checkpoint could not be found in the restored object: (root).optimizer._variables.30\n",
            "WARNING:tensorflow:Value in checkpoint could not be found in the restored object: (root).optimizer._variables.31\n",
            "WARNING:tensorflow:Value in checkpoint could not be found in the restored object: (root).optimizer._variables.32\n"
          ]
        },
        {
          "output_type": "execute_result",
          "data": {
            "text/plain": [
              "5261"
            ]
          },
          "metadata": {},
          "execution_count": 35
        }
      ],
      "source": [
        "X_train_gray = np.empty((X_train.shape[0],32,32))\n",
        "\n",
        "for i in range(X_train.shape[0]):\n",
        "    im_gray = cv2.cvtColor(X_train[i], cv2.COLOR_BGR2GRAY)\n",
        "    X_train_gray[i] = im_gray\n",
        "\n",
        "print(\"X_train_gray's shape is\",X_train_gray.shape)\n",
        "\n",
        "\n",
        "X_test_gray = np.empty((X_test.shape[0],X_test.shape[1],X_test.shape[2]))\n",
        "\n",
        "for i in range(X_test.shape[0]):\n",
        "    im_gray = cv2.cvtColor(X_test[i], cv2.COLOR_BGR2GRAY)\n",
        "    X_test_gray[i] = im_gray\n",
        "\n",
        "print(\"X_test_gray's shape is\",X_test_gray.shape)\n",
        "\n",
        "del X_train,X_test\n",
        "gc.collect()"
      ]
    },
    {
      "cell_type": "code",
      "execution_count": null,
      "metadata": {
        "colab": {
          "base_uri": "https://localhost:8080/"
        },
        "outputId": "3ba1872b-5bcf-4829-f326-99f74bac9654",
        "id": "Xy-jNmnE_TNi"
      },
      "outputs": [
        {
          "output_type": "stream",
          "name": "stdout",
          "text": [
            "y_train's shape after change to one-hot vec is (150000, 10)\n"
          ]
        }
      ],
      "source": [
        "#データをkerasが読み取れる形式に変換する(one-hotベクトル)\n",
        "y_train = keras.utils.to_categorical(y_train, NUM_CLASSES)\n",
        "y_test = keras.utils.to_categorical(y_test, NUM_CLASSES)\n",
        "print(\"y_train's shape after change to one-hot vec is\",y_train.shape)"
      ]
    },
    {
      "cell_type": "code",
      "source": [
        "checkpoint_path,cp_callback = create_checkpoint(\"重みを保存するファイルのパスをここに記載\")"
      ],
      "metadata": {
        "id": "KB81lrNbtrTR"
      },
      "execution_count": null,
      "outputs": []
    },
    {
      "cell_type": "code",
      "execution_count": null,
      "metadata": {
        "colab": {
          "base_uri": "https://localhost:8080/",
          "height": 1000
        },
        "outputId": "c3a9a313-0d9b-4d89-e1a9-009c1ca01d1f",
        "id": "azuMExO07uuN"
      },
      "outputs": [
        {
          "output_type": "stream",
          "name": "stdout",
          "text": [
            "Epoch 1/32\n",
            "782/782 [==============================] - ETA: 0s - loss: 1.8015 - accuracy: 0.3522\n",
            "Epoch 1: saving model to Weight_of_model/Gray/epoch32.safetensors\n",
            "782/782 [==============================] - 38s 44ms/step - loss: 1.8015 - accuracy: 0.3522 - val_loss: 1.5234 - val_accuracy: 0.4657\n",
            "Epoch 2/32\n",
            "781/782 [============================>.] - ETA: 0s - loss: 1.3696 - accuracy: 0.5183\n",
            "Epoch 2: saving model to Weight_of_model/Gray/epoch32.safetensors\n",
            "782/782 [==============================] - 33s 42ms/step - loss: 1.3695 - accuracy: 0.5183 - val_loss: 1.2403 - val_accuracy: 0.5827\n",
            "Epoch 3/32\n",
            "781/782 [============================>.] - ETA: 0s - loss: 1.1788 - accuracy: 0.5887\n",
            "Epoch 3: saving model to Weight_of_model/Gray/epoch32.safetensors\n",
            "782/782 [==============================] - 33s 42ms/step - loss: 1.1788 - accuracy: 0.5887 - val_loss: 1.1220 - val_accuracy: 0.6304\n",
            "Epoch 4/32\n",
            "780/782 [============================>.] - ETA: 0s - loss: 1.0695 - accuracy: 0.6289\n",
            "Epoch 4: saving model to Weight_of_model/Gray/epoch32.safetensors\n",
            "782/782 [==============================] - 32s 41ms/step - loss: 1.0694 - accuracy: 0.6290 - val_loss: 1.0420 - val_accuracy: 0.6489\n",
            "Epoch 5/32\n",
            "781/782 [============================>.] - ETA: 0s - loss: 0.9931 - accuracy: 0.6560\n",
            "Epoch 5: saving model to Weight_of_model/Gray/epoch32.safetensors\n",
            "782/782 [==============================] - 34s 44ms/step - loss: 0.9931 - accuracy: 0.6560 - val_loss: 0.9865 - val_accuracy: 0.6696\n",
            "Epoch 6/32\n",
            "781/782 [============================>.] - ETA: 0s - loss: 0.9333 - accuracy: 0.6743\n",
            "Epoch 6: saving model to Weight_of_model/Gray/epoch32.safetensors\n",
            "782/782 [==============================] - 32s 41ms/step - loss: 0.9334 - accuracy: 0.6743 - val_loss: 0.9832 - val_accuracy: 0.6643\n",
            "Epoch 7/32\n",
            "781/782 [============================>.] - ETA: 0s - loss: 0.8888 - accuracy: 0.6918\n",
            "Epoch 7: saving model to Weight_of_model/Gray/epoch32.safetensors\n",
            "782/782 [==============================] - 34s 44ms/step - loss: 0.8888 - accuracy: 0.6918 - val_loss: 0.9117 - val_accuracy: 0.6918\n",
            "Epoch 8/32\n",
            "781/782 [============================>.] - ETA: 0s - loss: 0.8492 - accuracy: 0.7036\n",
            "Epoch 8: saving model to Weight_of_model/Gray/epoch32.safetensors\n",
            "782/782 [==============================] - 34s 44ms/step - loss: 0.8492 - accuracy: 0.7036 - val_loss: 0.9063 - val_accuracy: 0.6969\n",
            "Epoch 9/32\n",
            "780/782 [============================>.] - ETA: 0s - loss: 0.8143 - accuracy: 0.7167\n",
            "Epoch 9: saving model to Weight_of_model/Gray/epoch32.safetensors\n",
            "782/782 [==============================] - 34s 44ms/step - loss: 0.8143 - accuracy: 0.7167 - val_loss: 0.8902 - val_accuracy: 0.6965\n",
            "Epoch 10/32\n",
            "781/782 [============================>.] - ETA: 0s - loss: 0.7795 - accuracy: 0.7291\n",
            "Epoch 10: saving model to Weight_of_model/Gray/epoch32.safetensors\n",
            "782/782 [==============================] - 33s 42ms/step - loss: 0.7796 - accuracy: 0.7290 - val_loss: 0.8465 - val_accuracy: 0.7107\n",
            "Epoch 11/32\n",
            "781/782 [============================>.] - ETA: 0s - loss: 0.7552 - accuracy: 0.7372\n",
            "Epoch 11: saving model to Weight_of_model/Gray/epoch32.safetensors\n",
            "782/782 [==============================] - 32s 41ms/step - loss: 0.7552 - accuracy: 0.7372 - val_loss: 0.8531 - val_accuracy: 0.7131\n",
            "Epoch 12/32\n",
            "781/782 [============================>.] - ETA: 0s - loss: 0.7381 - accuracy: 0.7417\n",
            "Epoch 12: saving model to Weight_of_model/Gray/epoch32.safetensors\n",
            "782/782 [==============================] - 34s 44ms/step - loss: 0.7381 - accuracy: 0.7417 - val_loss: 0.8255 - val_accuracy: 0.7187\n",
            "Epoch 13/32\n",
            "781/782 [============================>.] - ETA: 0s - loss: 0.7164 - accuracy: 0.7492\n",
            "Epoch 13: saving model to Weight_of_model/Gray/epoch32.safetensors\n",
            "782/782 [==============================] - 33s 42ms/step - loss: 0.7164 - accuracy: 0.7492 - val_loss: 0.8407 - val_accuracy: 0.7122\n",
            "Epoch 14/32\n",
            "781/782 [============================>.] - ETA: 0s - loss: 0.6942 - accuracy: 0.7563\n",
            "Epoch 14: saving model to Weight_of_model/Gray/epoch32.safetensors\n",
            "782/782 [==============================] - 35s 44ms/step - loss: 0.6941 - accuracy: 0.7563 - val_loss: 0.8164 - val_accuracy: 0.7180\n",
            "Epoch 15/32\n",
            "781/782 [============================>.] - ETA: 0s - loss: 0.6720 - accuracy: 0.7649\n",
            "Epoch 15: saving model to Weight_of_model/Gray/epoch32.safetensors\n",
            "782/782 [==============================] - 34s 44ms/step - loss: 0.6720 - accuracy: 0.7649 - val_loss: 0.8143 - val_accuracy: 0.7213\n",
            "Epoch 16/32\n",
            "781/782 [============================>.] - ETA: 0s - loss: 0.6560 - accuracy: 0.7692\n",
            "Epoch 16: saving model to Weight_of_model/Gray/epoch32.safetensors\n",
            "782/782 [==============================] - 33s 42ms/step - loss: 0.6561 - accuracy: 0.7692 - val_loss: 0.8001 - val_accuracy: 0.7268\n",
            "Epoch 17/32\n",
            "781/782 [============================>.] - ETA: 0s - loss: 0.6403 - accuracy: 0.7743\n",
            "Epoch 17: saving model to Weight_of_model/Gray/epoch32.safetensors\n",
            "782/782 [==============================] - 35s 44ms/step - loss: 0.6403 - accuracy: 0.7743 - val_loss: 0.8083 - val_accuracy: 0.7231\n",
            "Epoch 18/32\n",
            "781/782 [============================>.] - ETA: 0s - loss: 0.6281 - accuracy: 0.7802\n",
            "Epoch 18: saving model to Weight_of_model/Gray/epoch32.safetensors\n",
            "782/782 [==============================] - 34s 44ms/step - loss: 0.6281 - accuracy: 0.7802 - val_loss: 0.8030 - val_accuracy: 0.7234\n",
            "Epoch 19/32\n",
            "781/782 [============================>.] - ETA: 0s - loss: 0.6132 - accuracy: 0.7841\n",
            "Epoch 19: saving model to Weight_of_model/Gray/epoch32.safetensors\n",
            "782/782 [==============================] - 34s 44ms/step - loss: 0.6132 - accuracy: 0.7842 - val_loss: 0.8028 - val_accuracy: 0.7232\n",
            "Epoch 20/32\n",
            "780/782 [============================>.] - ETA: 0s - loss: 0.6077 - accuracy: 0.7861\n",
            "Epoch 20: saving model to Weight_of_model/Gray/epoch32.safetensors\n",
            "782/782 [==============================] - 34s 43ms/step - loss: 0.6079 - accuracy: 0.7861 - val_loss: 0.8148 - val_accuracy: 0.7218\n",
            "Epoch 21/32\n",
            "781/782 [============================>.] - ETA: 0s - loss: 0.5939 - accuracy: 0.7907\n",
            "Epoch 21: saving model to Weight_of_model/Gray/epoch32.safetensors\n",
            "782/782 [==============================] - 34s 44ms/step - loss: 0.5940 - accuracy: 0.7906 - val_loss: 0.7932 - val_accuracy: 0.7272\n",
            "Epoch 22/32\n",
            "780/782 [============================>.] - ETA: 0s - loss: 0.5792 - accuracy: 0.7951\n",
            "Epoch 22: saving model to Weight_of_model/Gray/epoch32.safetensors\n",
            "782/782 [==============================] - 32s 41ms/step - loss: 0.5796 - accuracy: 0.7950 - val_loss: 0.8074 - val_accuracy: 0.7247\n",
            "Epoch 23/32\n",
            "781/782 [============================>.] - ETA: 0s - loss: 0.5728 - accuracy: 0.7977\n",
            "Epoch 23: saving model to Weight_of_model/Gray/epoch32.safetensors\n",
            "782/782 [==============================] - 34s 44ms/step - loss: 0.5728 - accuracy: 0.7977 - val_loss: 0.8034 - val_accuracy: 0.7252\n",
            "Epoch 24/32\n",
            "781/782 [============================>.] - ETA: 0s - loss: 0.5597 - accuracy: 0.8027\n",
            "Epoch 24: saving model to Weight_of_model/Gray/epoch32.safetensors\n",
            "782/782 [==============================] - 32s 41ms/step - loss: 0.5597 - accuracy: 0.8026 - val_loss: 0.8074 - val_accuracy: 0.7245\n",
            "Epoch 25/32\n",
            "781/782 [============================>.] - ETA: 0s - loss: 0.5544 - accuracy: 0.8052\n",
            "Epoch 25: saving model to Weight_of_model/Gray/epoch32.safetensors\n",
            "782/782 [==============================] - 34s 44ms/step - loss: 0.5544 - accuracy: 0.8052 - val_loss: 0.8138 - val_accuracy: 0.7222\n",
            "Epoch 26/32\n",
            "781/782 [============================>.] - ETA: 0s - loss: 0.5448 - accuracy: 0.8063\n",
            "Epoch 26: saving model to Weight_of_model/Gray/epoch32.safetensors\n",
            "782/782 [==============================] - 32s 42ms/step - loss: 0.5447 - accuracy: 0.8064 - val_loss: 0.7799 - val_accuracy: 0.7327\n",
            "Epoch 27/32\n",
            "781/782 [============================>.] - ETA: 0s - loss: 0.5362 - accuracy: 0.8103\n",
            "Epoch 27: saving model to Weight_of_model/Gray/epoch32.safetensors\n",
            "782/782 [==============================] - 34s 44ms/step - loss: 0.5361 - accuracy: 0.8103 - val_loss: 0.7922 - val_accuracy: 0.7314\n",
            "Epoch 28/32\n",
            "781/782 [============================>.] - ETA: 0s - loss: 0.5293 - accuracy: 0.8127\n",
            "Epoch 28: saving model to Weight_of_model/Gray/epoch32.safetensors\n",
            "782/782 [==============================] - 34s 44ms/step - loss: 0.5292 - accuracy: 0.8127 - val_loss: 0.7897 - val_accuracy: 0.7305\n",
            "Epoch 29/32\n",
            "781/782 [============================>.] - ETA: 0s - loss: 0.5180 - accuracy: 0.8166\n",
            "Epoch 29: saving model to Weight_of_model/Gray/epoch32.safetensors\n",
            "782/782 [==============================] - 32s 41ms/step - loss: 0.5180 - accuracy: 0.8166 - val_loss: 0.8103 - val_accuracy: 0.7253\n",
            "Epoch 30/32\n",
            "781/782 [============================>.] - ETA: 0s - loss: 0.5137 - accuracy: 0.8175\n",
            "Epoch 30: saving model to Weight_of_model/Gray/epoch32.safetensors\n",
            "782/782 [==============================] - 34s 44ms/step - loss: 0.5138 - accuracy: 0.8175 - val_loss: 0.8064 - val_accuracy: 0.7266\n",
            "Epoch 31/32\n",
            "781/782 [============================>.] - ETA: 0s - loss: 0.5046 - accuracy: 0.8213\n",
            "Epoch 31: saving model to Weight_of_model/Gray/epoch32.safetensors\n",
            "782/782 [==============================] - 34s 44ms/step - loss: 0.5046 - accuracy: 0.8213 - val_loss: 0.7892 - val_accuracy: 0.7311\n",
            "Epoch 32/32\n",
            "780/782 [============================>.] - ETA: 0s - loss: 0.4955 - accuracy: 0.8259\n",
            "Epoch 32: saving model to Weight_of_model/Gray/epoch32.safetensors\n",
            "782/782 [==============================] - 34s 44ms/step - loss: 0.4955 - accuracy: 0.8259 - val_loss: 0.7968 - val_accuracy: 0.7329\n",
            "{'loss': [1.8014616966247559, 1.3695241212844849, 1.1787749528884888, 1.0694148540496826, 0.9930700659751892, 0.933380126953125, 0.8887599110603333, 0.8491620421409607, 0.8143190741539001, 0.7795532941818237, 0.7551829814910889, 0.7380962371826172, 0.7164207100868225, 0.6941058039665222, 0.6719650626182556, 0.6560786962509155, 0.6403258442878723, 0.6281026005744934, 0.6131774187088013, 0.6078532934188843, 0.5939576625823975, 0.579614520072937, 0.5728009343147278, 0.5597067475318909, 0.5544039607048035, 0.5447158813476562, 0.5361313819885254, 0.5292452573776245, 0.5179873704910278, 0.5137754082679749, 0.5046319365501404, 0.4954964518547058], 'accuracy': [0.3522000014781952, 0.518310010433197, 0.5886600017547607, 0.6289799809455872, 0.656000018119812, 0.6742799878120422, 0.6917700171470642, 0.7036100029945374, 0.7167199850082397, 0.7290199995040894, 0.7372300028800964, 0.7417200207710266, 0.7491599917411804, 0.7563499808311462, 0.764930009841919, 0.7692099809646606, 0.7742999792098999, 0.780239999294281, 0.7841699719429016, 0.7860599756240845, 0.7906299829483032, 0.7949600219726562, 0.7976999878883362, 0.802649974822998, 0.805180013179779, 0.8063700199127197, 0.8103399872779846, 0.8126999735832214, 0.816569983959198, 0.817520022392273, 0.8212800025939941, 0.8258900046348572], 'val_loss': [1.523350477218628, 1.2403309345245361, 1.1220170259475708, 1.0419825315475464, 0.986540675163269, 0.9832268953323364, 0.9117163419723511, 0.9062780737876892, 0.8902270197868347, 0.8464858531951904, 0.8530828952789307, 0.8254668712615967, 0.8407142758369446, 0.8163674473762512, 0.8142889738082886, 0.8001320958137512, 0.8083282113075256, 0.8030245304107666, 0.8027839064598083, 0.8148149251937866, 0.793244481086731, 0.807360053062439, 0.8034309148788452, 0.8074408769607544, 0.8138091564178467, 0.7799031734466553, 0.7922285199165344, 0.7897248268127441, 0.8102743625640869, 0.8064299821853638, 0.7892329692840576, 0.7967808842658997], 'val_accuracy': [0.465719997882843, 0.5827400088310242, 0.6303799748420715, 0.648859977722168, 0.6695799827575684, 0.6642600297927856, 0.6917799711227417, 0.6968600153923035, 0.6965199708938599, 0.7106599807739258, 0.7130600214004517, 0.718720018863678, 0.7121599912643433, 0.7179800271987915, 0.7212799787521362, 0.7267799973487854, 0.7230799794197083, 0.7234399914741516, 0.7231799960136414, 0.7217599749565125, 0.7272199988365173, 0.7246599793434143, 0.7252399921417236, 0.7244799733161926, 0.7221800088882446, 0.7326800227165222, 0.7314199805259705, 0.7304999828338623, 0.7252600193023682, 0.726639986038208, 0.7311400175094604, 0.7329199910163879]}\n"
          ]
        },
        {
          "output_type": "display_data",
          "data": {
            "text/plain": [
              "<Figure size 640x480 with 1 Axes>"
            ],
            "image/png": "[encoded data removed]"
          },
          "metadata": {}
        },
        {
          "output_type": "display_data",
          "data": {
            "text/plain": [
              "<Figure size 640x480 with 1 Axes>"
            ],
            "image/png": "[encoded data removed]"
          },
          "metadata": {}
        }
      ],
      "source": [
        "#https://qiita.com/yy1003/items/c590d1a26918e4abe512やhttps://deepage.net/deep_learning/2016/10/26/batch_normalization.html参照\n",
        "\n",
        "NUMBER_OF_EPOCH = 32\n",
        "BATCH_SIZE = 128\n",
        "\n",
        "input_size  = (img_rows,img_cols,1)\n",
        "\n",
        "model_gray = create_2Dmodel(input_size)\n",
        "\n",
        "model_gray.fit(X_train_gray[split_index[0][0]], y_train[split_index[0][0]],\n",
        "              batch_size=BATCH_SIZE,\n",
        "              epochs=NUMBER_OF_EPOCH,\n",
        "              verbose=1,\n",
        "              validation_data=(X_train_gray[split_index[0][1]], y_train[split_index[0][1]]),\n",
        "              callbacks=[cp_callback])\n",
        "\n",
        "plot_history_of_model(model_gray)"
      ]
    },
    {
      "cell_type": "code",
      "source": [
        "\"\"\"\n",
        "#保存済みの重みを読み込み\n",
        "input_size  = (img_rows,img_cols,1)\n",
        "model_gray = create_2Dmodel(input_size)\n",
        "\n",
        "model_gray.load_weights(checkpoint_path)\n",
        "\"\"\""
      ],
      "metadata": {
        "id": "f3ujXqHPt-et",
        "colab": {
          "base_uri": "https://localhost:8080/"
        },
        "outputId": "8f033e5b-2b40-41a6-da94-bbceef2a61ad"
      },
      "execution_count": null,
      "outputs": [
        {
          "output_type": "execute_result",
          "data": {
            "text/plain": [
              "<tensorflow.python.checkpoint.checkpoint.CheckpointLoadStatus at 0x78028e477790>"
            ]
          },
          "metadata": {},
          "execution_count": 38
        }
      ]
    },
    {
      "cell_type": "code",
      "source": [
        "del X_train_gray,y_train\n",
        "gc.collect()"
      ],
      "metadata": {
        "colab": {
          "base_uri": "https://localhost:8080/"
        },
        "id": "0K4AVfzWzC2O",
        "outputId": "6b13e9fd-1dd6-40de-8135-a961cb2d3828"
      },
      "execution_count": null,
      "outputs": [
        {
          "output_type": "execute_result",
          "data": {
            "text/plain": [
              "490"
            ]
          },
          "metadata": {},
          "execution_count": 39
        }
      ]
    },
    {
      "cell_type": "code",
      "execution_count": null,
      "metadata": {
        "colab": {
          "base_uri": "https://localhost:8080/"
        },
        "id": "XwLlMM3SdvSt",
        "outputId": "8ca94251-6f39-4793-ac74-45b169958311"
      },
      "outputs": [
        {
          "output_type": "stream",
          "name": "stdout",
          "text": [
            "313/313 [==============================] - 1s 3ms/step\n",
            "accuracy : 0.788\n"
          ]
        }
      ],
      "source": [
        "pred_gray = model_gray.predict(X_test_gray)\n",
        "\n",
        "count = 0\n",
        "for i in range(len(X_test_gray)):\n",
        "    if np.argmax(pred_gray[i]) == np.argmax(y_test[i]):\n",
        "        count +=1\n",
        "\n",
        "print(\"accuracy :\",count/len(X_test_gray))"
      ]
    },
    {
      "cell_type": "markdown",
      "source": [
        "# アンサンブル学習"
      ],
      "metadata": {
        "id": "W6k6hHipwQaB"
      }
    },
    {
      "cell_type": "markdown",
      "source": [
        "これまでの予測結果をアンサンブルすることで精度の向上を目指す。"
      ],
      "metadata": {
        "id": "ZRvDmDRpNVBA"
      }
    },
    {
      "cell_type": "code",
      "source": [
        "import seaborn as sns\n",
        "\n",
        "pred_average = (pred_color + pred_color_masked + pred_gray + pred_masked_gray) / 4\n",
        "count = 0\n",
        "\n",
        "negative_list = np.zeros(10)\n",
        "pred_list = np.zeros(10)\n",
        "\n",
        "true = np.zeros(10)\n",
        "pred = np.zeros(10)\n",
        "\n",
        "my_matrix = np.zeros((10,10))\n",
        "\n",
        "for i in range(len(pred_color)):\n",
        "    if np.argmax(pred_average[i]) == np.argmax(y_test[i]):\n",
        "        count +=1\n",
        "    else:\n",
        "      negative_list[np.argmax(y_test[i])] += 1\n",
        "      pred_list[np.argmax(pred_average[i])] += 1\n",
        "\n",
        "    true[np.argmax(y_test[i])] += 1\n",
        "    pred[np.argmax(pred_average[i])] += 1\n",
        "\n",
        "    my_matrix[np.argmax(y_test[i])][np.argmax(pred_average[i])] += 1\n",
        "\n",
        "print(\"accuracy :\",count/len(pred_color))\n",
        "print(label_dict)\n",
        "print(negative_list)\n",
        "print(pred_list,\"\\n\")\n",
        "\n",
        "print(true)\n",
        "print(pred,\"\\n\")\n",
        "\n",
        "print(my_matrix)"
      ],
      "metadata": {
        "colab": {
          "base_uri": "https://localhost:8080/"
        },
        "id": "QnnR93TN5RpB",
        "outputId": "cf1148de-afdb-40c7-b022-4ea4225c1c63"
      },
      "execution_count": null,
      "outputs": [
        {
          "output_type": "stream",
          "name": "stdout",
          "text": [
            "accuracy : 0.8421\n",
            "{0: '飛行機', 1: '自動車', 2: '鳥', 3: '猫', 4: '鹿', 5: '犬', 6: 'カエル', 7: '馬', 8: '船', 9: 'トラック'}\n",
            "[142.  74. 271. 302. 133. 273.  95. 124.  86.  79.]\n",
            "[105.  72. 127. 312. 251. 160. 184. 122.  82. 164.] \n",
            "\n",
            "[1000. 1000. 1000. 1000. 1000. 1000. 1000. 1000. 1000. 1000.]\n",
            "[ 963.  998.  856. 1010. 1118.  887. 1089.  998.  996. 1085.] \n",
            "\n",
            "[[858.  11.  17.  13.  17.   1.   9.   7.  39.  28.]\n",
            " [  1. 926.   0.   3.   2.   2.   1.   1.   7.  57.]\n",
            " [ 32.   3. 729.  40.  85.  37.  44.  20.   5.   5.]\n",
            " [ 10.   7.  30. 698.  59.  84.  55.  26.   7.  24.]\n",
            " [  4.   1.  26.  24. 867.   8.  33.  33.   4.   0.]\n",
            " [  5.   0.  19. 143.  44. 727.  25.  26.   2.   9.]\n",
            " [  8.   2.  20.  30.  15.   8. 905.   5.   5.   2.]\n",
            " [  4.   2.   8.  46.  25.  19.   5. 876.   2.  13.]\n",
            " [ 28.  14.   6.   5.   2.   0.   5.   0. 914.  26.]\n",
            " [ 13.  32.   1.   8.   2.   1.   7.   4.  11. 921.]]\n"
          ]
        }
      ]
    },
    {
      "cell_type": "markdown",
      "source": [
        "上記のコードで出力した混同行列を視覚的に理解しやすく成形する。"
      ],
      "metadata": {
        "id": "EJTgwiWPNeJU"
      }
    },
    {
      "cell_type": "code",
      "source": [
        "labels = ['飛行機', '自動車', '鳥', '猫', '鹿', '犬', 'カエル', '馬', '船', 'トラック']"
      ],
      "metadata": {
        "id": "qSt0iqSCozok"
      },
      "execution_count": null,
      "outputs": []
    },
    {
      "cell_type": "code",
      "source": [
        "df = pd.DataFrame(data=my_matrix, index=labels, columns=labels)"
      ],
      "metadata": {
        "id": "rPZHFwKKpL41"
      },
      "execution_count": null,
      "outputs": []
    },
    {
      "cell_type": "code",
      "source": [
        "df"
      ],
      "metadata": {
        "colab": {
          "base_uri": "https://localhost:8080/",
          "height": 363
        },
        "id": "tzLaCe3opY0Q",
        "outputId": "a0136db3-a848-42ae-98d1-5dc93e26dabe"
      },
      "execution_count": null,
      "outputs": [
        {
          "output_type": "execute_result",
          "data": {
            "text/plain": [
              "        飛行機    自動車      鳥      猫      鹿      犬    カエル      馬      船   トラック\n",
              "飛行機   859.0   12.0   17.0    9.0   17.0    1.0    9.0    9.0   39.0   28.0\n",
              "自動車     1.0  926.0    0.0    1.0    2.0    3.0    2.0    1.0    7.0   57.0\n",
              "鳥      32.0    3.0  735.0   27.0   87.0   41.0   45.0   20.0    5.0    5.0\n",
              "猫      13.0    8.0   35.0  637.0   66.0  114.0   61.0   29.0    7.0   30.0\n",
              "鹿       4.0    1.0   26.0   18.0  871.0    9.0   33.0   33.0    4.0    1.0\n",
              "犬       5.0    1.0   23.0   95.0   48.0  759.0   29.0   29.0    2.0    9.0\n",
              "カエル     8.0    2.0   21.0   20.0   17.0    9.0  911.0    5.0    5.0    2.0\n",
              "馬       4.0    2.0    9.0   28.0   27.0   22.0    6.0  886.0    2.0   14.0\n",
              "船      29.0   14.0    6.0    4.0    2.0    0.0    5.0    0.0  914.0   26.0\n",
              "トラック   13.0   32.0    1.0    6.0    2.0    1.0    7.0    4.0   11.0  923.0"
            ],
            "text/html": [
              "\n",
              "  <div id=\"df-67c8489a-ce6d-4ade-a86d-fdb0151d6bc9\" class=\"colab-df-container\">\n",
              "    <div>\n",
              "<style scoped>\n",
              "    .dataframe tbody tr th:only-of-type {\n",
              "        vertical-align: middle;\n",
              "    }\n",
              "\n",
              "    .dataframe tbody tr th {\n",
              "        vertical-align: top;\n",
              "    }\n",
              "\n",
              "    .dataframe thead th {\n",
              "        text-align: right;\n",
              "    }\n",
              "</style>\n",
              "<table border=\"1\" class=\"dataframe\">\n",
              "  <thead>\n",
              "    <tr style=\"text-align: right;\">\n",
              "      <th></th>\n",
              "      <th>飛行機</th>\n",
              "      <th>自動車</th>\n",
              "      <th>鳥</th>\n",
              "      <th>猫</th>\n",
              "      <th>鹿</th>\n",
              "      <th>犬</th>\n",
              "      <th>カエル</th>\n",
              "      <th>馬</th>\n",
              "      <th>船</th>\n",
              "      <th>トラック</th>\n",
              "    </tr>\n",
              "  </thead>\n",
              "  <tbody>\n",
              "    <tr>\n",
              "      <th>飛行機</th>\n",
              "      <td>859.0</td>\n",
              "      <td>12.0</td>\n",
              "      <td>17.0</td>\n",
              "      <td>9.0</td>\n",
              "      <td>17.0</td>\n",
              "      <td>1.0</td>\n",
              "      <td>9.0</td>\n",
              "      <td>9.0</td>\n",
              "      <td>39.0</td>\n",
              "      <td>28.0</td>\n",
              "    </tr>\n",
              "    <tr>\n",
              "      <th>自動車</th>\n",
              "      <td>1.0</td>\n",
              "      <td>926.0</td>\n",
              "      <td>0.0</td>\n",
              "      <td>1.0</td>\n",
              "      <td>2.0</td>\n",
              "      <td>3.0</td>\n",
              "      <td>2.0</td>\n",
              "      <td>1.0</td>\n",
              "      <td>7.0</td>\n",
              "      <td>57.0</td>\n",
              "    </tr>\n",
              "    <tr>\n",
              "      <th>鳥</th>\n",
              "      <td>32.0</td>\n",
              "      <td>3.0</td>\n",
              "      <td>735.0</td>\n",
              "      <td>27.0</td>\n",
              "      <td>87.0</td>\n",
              "      <td>41.0</td>\n",
              "      <td>45.0</td>\n",
              "      <td>20.0</td>\n",
              "      <td>5.0</td>\n",
              "      <td>5.0</td>\n",
              "    </tr>\n",
              "    <tr>\n",
              "      <th>猫</th>\n",
              "      <td>13.0</td>\n",
              "      <td>8.0</td>\n",
              "      <td>35.0</td>\n",
              "      <td>637.0</td>\n",
              "      <td>66.0</td>\n",
              "      <td>114.0</td>\n",
              "      <td>61.0</td>\n",
              "      <td>29.0</td>\n",
              "      <td>7.0</td>\n",
              "      <td>30.0</td>\n",
              "    </tr>\n",
              "    <tr>\n",
              "      <th>鹿</th>\n",
              "      <td>4.0</td>\n",
              "      <td>1.0</td>\n",
              "      <td>26.0</td>\n",
              "      <td>18.0</td>\n",
              "      <td>871.0</td>\n",
              "      <td>9.0</td>\n",
              "      <td>33.0</td>\n",
              "      <td>33.0</td>\n",
              "      <td>4.0</td>\n",
              "      <td>1.0</td>\n",
              "    </tr>\n",
              "    <tr>\n",
              "      <th>犬</th>\n",
              "      <td>5.0</td>\n",
              "      <td>1.0</td>\n",
              "      <td>23.0</td>\n",
              "      <td>95.0</td>\n",
              "      <td>48.0</td>\n",
              "      <td>759.0</td>\n",
              "      <td>29.0</td>\n",
              "      <td>29.0</td>\n",
              "      <td>2.0</td>\n",
              "      <td>9.0</td>\n",
              "    </tr>\n",
              "    <tr>\n",
              "      <th>カエル</th>\n",
              "      <td>8.0</td>\n",
              "      <td>2.0</td>\n",
              "      <td>21.0</td>\n",
              "      <td>20.0</td>\n",
              "      <td>17.0</td>\n",
              "      <td>9.0</td>\n",
              "      <td>911.0</td>\n",
              "      <td>5.0</td>\n",
              "      <td>5.0</td>\n",
              "      <td>2.0</td>\n",
              "    </tr>\n",
              "    <tr>\n",
              "      <th>馬</th>\n",
              "      <td>4.0</td>\n",
              "      <td>2.0</td>\n",
              "      <td>9.0</td>\n",
              "      <td>28.0</td>\n",
              "      <td>27.0</td>\n",
              "      <td>22.0</td>\n",
              "      <td>6.0</td>\n",
              "      <td>886.0</td>\n",
              "      <td>2.0</td>\n",
              "      <td>14.0</td>\n",
              "    </tr>\n",
              "    <tr>\n",
              "      <th>船</th>\n",
              "      <td>29.0</td>\n",
              "      <td>14.0</td>\n",
              "      <td>6.0</td>\n",
              "      <td>4.0</td>\n",
              "      <td>2.0</td>\n",
              "      <td>0.0</td>\n",
              "      <td>5.0</td>\n",
              "      <td>0.0</td>\n",
              "      <td>914.0</td>\n",
              "      <td>26.0</td>\n",
              "    </tr>\n",
              "    <tr>\n",
              "      <th>トラック</th>\n",
              "      <td>13.0</td>\n",
              "      <td>32.0</td>\n",
              "      <td>1.0</td>\n",
              "      <td>6.0</td>\n",
              "      <td>2.0</td>\n",
              "      <td>1.0</td>\n",
              "      <td>7.0</td>\n",
              "      <td>4.0</td>\n",
              "      <td>11.0</td>\n",
              "      <td>923.0</td>\n",
              "    </tr>\n",
              "  </tbody>\n",
              "</table>\n",
              "</div>\n",
              "    <div class=\"colab-df-buttons\">\n",
              "\n",
              "  <div class=\"colab-df-container\">\n",
              "    <button class=\"colab-df-convert\" onclick=\"convertToInteractive('df-67c8489a-ce6d-4ade-a86d-fdb0151d6bc9')\"\n",
              "            title=\"Convert this dataframe to an interactive table.\"\n",
              "            style=\"display:none;\">\n",
              "\n",
              "  <svg xmlns=\"http://www.w3.org/2000/svg\" height=\"24px\" viewBox=\"0 -960 960 960\">\n",
              "    <path d=\"M120-120v-720h720v720H120Zm60-500h600v-160H180v160Zm220 220h160v-160H400v160Zm0 220h160v-160H400v160ZM180-400h160v-160H180v160Zm440 0h160v-160H620v160ZM180-180h160v-160H180v160Zm440 0h160v-160H620v160Z\"/>\n",
              "  </svg>\n",
              "    </button>\n",
              "\n",
              "  <style>\n",
              "    .colab-df-container {\n",
              "      display:flex;\n",
              "      gap: 12px;\n",
              "    }\n",
              "\n",
              "    .colab-df-convert {\n",
              "      background-color: #E8F0FE;\n",
              "      border: none;\n",
              "      border-radius: 50%;\n",
              "      cursor: pointer;\n",
              "      display: none;\n",
              "      fill: #1967D2;\n",
              "      height: 32px;\n",
              "      padding: 0 0 0 0;\n",
              "      width: 32px;\n",
              "    }\n",
              "\n",
              "    .colab-df-convert:hover {\n",
              "      background-color: #E2EBFA;\n",
              "      box-shadow: 0px 1px 2px rgba(60, 64, 67, 0.3), 0px 1px 3px 1px rgba(60, 64, 67, 0.15);\n",
              "      fill: #174EA6;\n",
              "    }\n",
              "\n",
              "    .colab-df-buttons div {\n",
              "      margin-bottom: 4px;\n",
              "    }\n",
              "\n",
              "    [theme=dark] .colab-df-convert {\n",
              "      background-color: #3B4455;\n",
              "      fill: #D2E3FC;\n",
              "    }\n",
              "\n",
              "    [theme=dark] .colab-df-convert:hover {\n",
              "      background-color: #434B5C;\n",
              "      box-shadow: 0px 1px 3px 1px rgba(0, 0, 0, 0.15);\n",
              "      filter: drop-shadow(0px 1px 2px rgba(0, 0, 0, 0.3));\n",
              "      fill: #FFFFFF;\n",
              "    }\n",
              "  </style>\n",
              "\n",
              "    <script>\n",
              "      const buttonEl =\n",
              "        document.querySelector('#df-67c8489a-ce6d-4ade-a86d-fdb0151d6bc9 button.colab-df-convert');\n",
              "      buttonEl.style.display =\n",
              "        google.colab.kernel.accessAllowed ? 'block' : 'none';\n",
              "\n",
              "      async function convertToInteractive(key) {\n",
              "        const element = document.querySelector('#df-67c8489a-ce6d-4ade-a86d-fdb0151d6bc9');\n",
              "        const dataTable =\n",
              "          await google.colab.kernel.invokeFunction('convertToInteractive',\n",
              "                                                    [key], {});\n",
              "        if (!dataTable) return;\n",
              "\n",
              "        const docLinkHtml = 'Like what you see? Visit the ' +\n",
              "          '<a target=\"_blank\" href=https://colab.research.google.com/notebooks/data_table.ipynb>data table notebook</a>'\n",
              "          + ' to learn more about interactive tables.';\n",
              "        element.innerHTML = '';\n",
              "        dataTable['output_type'] = 'display_data';\n",
              "        await google.colab.output.renderOutput(dataTable, element);\n",
              "        const docLink = document.createElement('div');\n",
              "        docLink.innerHTML = docLinkHtml;\n",
              "        element.appendChild(docLink);\n",
              "      }\n",
              "    </script>\n",
              "  </div>\n",
              "\n",
              "\n",
              "<div id=\"df-3d277c90-13d7-47db-bef7-d538acae3256\">\n",
              "  <button class=\"colab-df-quickchart\" onclick=\"quickchart('df-3d277c90-13d7-47db-bef7-d538acae3256')\"\n",
              "            title=\"Suggest charts\"\n",
              "            style=\"display:none;\">\n",
              "\n",
              "<svg xmlns=\"http://www.w3.org/2000/svg\" height=\"24px\"viewBox=\"0 0 24 24\"\n",
              "     width=\"24px\">\n",
              "    <g>\n",
              "        <path d=\"M19 3H5c-1.1 0-2 .9-2 2v14c0 1.1.9 2 2 2h14c1.1 0 2-.9 2-2V5c0-1.1-.9-2-2-2zM9 17H7v-7h2v7zm4 0h-2V7h2v10zm4 0h-2v-4h2v4z\"/>\n",
              "    </g>\n",
              "</svg>\n",
              "  </button>\n",
              "\n",
              "<style>\n",
              "  .colab-df-quickchart {\n",
              "      --bg-color: #E8F0FE;\n",
              "      --fill-color: #1967D2;\n",
              "      --hover-bg-color: #E2EBFA;\n",
              "      --hover-fill-color: #174EA6;\n",
              "      --disabled-fill-color: #AAA;\n",
              "      --disabled-bg-color: #DDD;\n",
              "  }\n",
              "\n",
              "  [theme=dark] .colab-df-quickchart {\n",
              "      --bg-color: #3B4455;\n",
              "      --fill-color: #D2E3FC;\n",
              "      --hover-bg-color: #434B5C;\n",
              "      --hover-fill-color: #FFFFFF;\n",
              "      --disabled-bg-color: #3B4455;\n",
              "      --disabled-fill-color: #666;\n",
              "  }\n",
              "\n",
              "  .colab-df-quickchart {\n",
              "    background-color: var(--bg-color);\n",
              "    border: none;\n",
              "    border-radius: 50%;\n",
              "    cursor: pointer;\n",
              "    display: none;\n",
              "    fill: var(--fill-color);\n",
              "    height: 32px;\n",
              "    padding: 0;\n",
              "    width: 32px;\n",
              "  }\n",
              "\n",
              "  .colab-df-quickchart:hover {\n",
              "    background-color: var(--hover-bg-color);\n",
              "    box-shadow: 0 1px 2px rgba(60, 64, 67, 0.3), 0 1px 3px 1px rgba(60, 64, 67, 0.15);\n",
              "    fill: var(--button-hover-fill-color);\n",
              "  }\n",
              "\n",
              "  .colab-df-quickchart-complete:disabled,\n",
              "  .colab-df-quickchart-complete:disabled:hover {\n",
              "    background-color: var(--disabled-bg-color);\n",
              "    fill: var(--disabled-fill-color);\n",
              "    box-shadow: none;\n",
              "  }\n",
              "\n",
              "  .colab-df-spinner {\n",
              "    border: 2px solid var(--fill-color);\n",
              "    border-color: transparent;\n",
              "    border-bottom-color: var(--fill-color);\n",
              "    animation:\n",
              "      spin 1s steps(1) infinite;\n",
              "  }\n",
              "\n",
              "  @keyframes spin {\n",
              "    0% {\n",
              "      border-color: transparent;\n",
              "      border-bottom-color: var(--fill-color);\n",
              "      border-left-color: var(--fill-color);\n",
              "    }\n",
              "    20% {\n",
              "      border-color: transparent;\n",
              "      border-left-color: var(--fill-color);\n",
              "      border-top-color: var(--fill-color);\n",
              "    }\n",
              "    30% {\n",
              "      border-color: transparent;\n",
              "      border-left-color: var(--fill-color);\n",
              "      border-top-color: var(--fill-color);\n",
              "      border-right-color: var(--fill-color);\n",
              "    }\n",
              "    40% {\n",
              "      border-color: transparent;\n",
              "      border-right-color: var(--fill-color);\n",
              "      border-top-color: var(--fill-color);\n",
              "    }\n",
              "    60% {\n",
              "      border-color: transparent;\n",
              "      border-right-color: var(--fill-color);\n",
              "    }\n",
              "    80% {\n",
              "      border-color: transparent;\n",
              "      border-right-color: var(--fill-color);\n",
              "      border-bottom-color: var(--fill-color);\n",
              "    }\n",
              "    90% {\n",
              "      border-color: transparent;\n",
              "      border-bottom-color: var(--fill-color);\n",
              "    }\n",
              "  }\n",
              "</style>\n",
              "\n",
              "  <script>\n",
              "    async function quickchart(key) {\n",
              "      const quickchartButtonEl =\n",
              "        document.querySelector('#' + key + ' button');\n",
              "      quickchartButtonEl.disabled = true;  // To prevent multiple clicks.\n",
              "      quickchartButtonEl.classList.add('colab-df-spinner');\n",
              "      try {\n",
              "        const charts = await google.colab.kernel.invokeFunction(\n",
              "            'suggestCharts', [key], {});\n",
              "      } catch (error) {\n",
              "        console.error('Error during call to suggestCharts:', error);\n",
              "      }\n",
              "      quickchartButtonEl.classList.remove('colab-df-spinner');\n",
              "      quickchartButtonEl.classList.add('colab-df-quickchart-complete');\n",
              "    }\n",
              "    (() => {\n",
              "      let quickchartButtonEl =\n",
              "        document.querySelector('#df-3d277c90-13d7-47db-bef7-d538acae3256 button');\n",
              "      quickchartButtonEl.style.display =\n",
              "        google.colab.kernel.accessAllowed ? 'block' : 'none';\n",
              "    })();\n",
              "  </script>\n",
              "</div>\n",
              "\n",
              "  <div id=\"id_298beb15-663f-4403-a7c5-404510d8ecea\">\n",
              "    <style>\n",
              "      .colab-df-generate {\n",
              "        background-color: #E8F0FE;\n",
              "        border: none;\n",
              "        border-radius: 50%;\n",
              "        cursor: pointer;\n",
              "        display: none;\n",
              "        fill: #1967D2;\n",
              "        height: 32px;\n",
              "        padding: 0 0 0 0;\n",
              "        width: 32px;\n",
              "      }\n",
              "\n",
              "      .colab-df-generate:hover {\n",
              "        background-color: #E2EBFA;\n",
              "        box-shadow: 0px 1px 2px rgba(60, 64, 67, 0.3), 0px 1px 3px 1px rgba(60, 64, 67, 0.15);\n",
              "        fill: #174EA6;\n",
              "      }\n",
              "\n",
              "      [theme=dark] .colab-df-generate {\n",
              "        background-color: #3B4455;\n",
              "        fill: #D2E3FC;\n",
              "      }\n",
              "\n",
              "      [theme=dark] .colab-df-generate:hover {\n",
              "        background-color: #434B5C;\n",
              "        box-shadow: 0px 1px 3px 1px rgba(0, 0, 0, 0.15);\n",
              "        filter: drop-shadow(0px 1px 2px rgba(0, 0, 0, 0.3));\n",
              "        fill: #FFFFFF;\n",
              "      }\n",
              "    </style>\n",
              "    <button class=\"colab-df-generate\" onclick=\"generateWithVariable('df')\"\n",
              "            title=\"Generate code using this dataframe.\"\n",
              "            style=\"display:none;\">\n",
              "\n",
              "  <svg xmlns=\"http://www.w3.org/2000/svg\" height=\"24px\"viewBox=\"0 0 24 24\"\n",
              "       width=\"24px\">\n",
              "    <path d=\"M7,19H8.4L18.45,9,17,7.55,7,17.6ZM5,21V16.75L18.45,3.32a2,2,0,0,1,2.83,0l1.4,1.43a1.91,1.91,0,0,1,.58,1.4,1.91,1.91,0,0,1-.58,1.4L9.25,21ZM18.45,9,17,7.55Zm-12,3A5.31,5.31,0,0,0,4.9,8.1,5.31,5.31,0,0,0,1,6.5,5.31,5.31,0,0,0,4.9,4.9,5.31,5.31,0,0,0,6.5,1,5.31,5.31,0,0,0,8.1,4.9,5.31,5.31,0,0,0,12,6.5,5.46,5.46,0,0,0,6.5,12Z\"/>\n",
              "  </svg>\n",
              "    </button>\n",
              "    <script>\n",
              "      (() => {\n",
              "      const buttonEl =\n",
              "        document.querySelector('#id_298beb15-663f-4403-a7c5-404510d8ecea button.colab-df-generate');\n",
              "      buttonEl.style.display =\n",
              "        google.colab.kernel.accessAllowed ? 'block' : 'none';\n",
              "\n",
              "      buttonEl.onclick = () => {\n",
              "        google.colab.notebook.generateWithVariable('df');\n",
              "      }\n",
              "      })();\n",
              "    </script>\n",
              "  </div>\n",
              "\n",
              "    </div>\n",
              "  </div>\n"
            ],
            "application/vnd.google.colaboratory.intrinsic+json": {
              "type": "dataframe",
              "variable_name": "df",
              "summary": "{\n  \"name\": \"df\",\n  \"rows\": 10,\n  \"fields\": [\n    {\n      \"column\": \"\\u98db\\u884c\\u6a5f\",\n      \"properties\": {\n        \"dtype\": \"number\",\n        \"std\": 268.0181585888041,\n        \"min\": 1.0,\n        \"max\": 859.0,\n        \"num_unique_values\": 8,\n        \"samples\": [\n          1.0,\n          5.0,\n          859.0\n        ],\n        \"semantic_type\": \"\",\n        \"description\": \"\"\n      }\n    },\n    {\n      \"column\": \"\\u81ea\\u52d5\\u8eca\",\n      \"properties\": {\n        \"dtype\": \"number\",\n        \"std\": 290.34900455218445,\n        \"min\": 1.0,\n        \"max\": 926.0,\n        \"num_unique_values\": 8,\n        \"samples\": [\n          926.0,\n          2.0,\n          12.0\n        ],\n        \"semantic_type\": \"\",\n        \"description\": \"\"\n      }\n    },\n    {\n      \"column\": \"\\u9ce5\",\n      \"properties\": {\n        \"dtype\": \"number\",\n        \"std\": 227.862068414693,\n        \"min\": 0.0,\n        \"max\": 735.0,\n        \"num_unique_values\": 10,\n        \"samples\": [\n          6.0,\n          0.0,\n          23.0\n        ],\n        \"semantic_type\": \"\",\n        \"description\": \"\"\n      }\n    },\n    {\n      \"column\": \"\\u732b\",\n      \"properties\": {\n        \"dtype\": \"number\",\n        \"std\": 196.00524369402865,\n        \"min\": 1.0,\n        \"max\": 637.0,\n        \"num_unique_values\": 10,\n        \"samples\": [\n          4.0,\n          1.0,\n          95.0\n        ],\n        \"semantic_type\": \"\",\n        \"description\": \"\"\n      }\n    },\n    {\n      \"column\": \"\\u9e7f\",\n      \"properties\": {\n        \"dtype\": \"number\",\n        \"std\": 267.5935765713038,\n        \"min\": 2.0,\n        \"max\": 871.0,\n        \"num_unique_values\": 7,\n        \"samples\": [\n          17.0,\n          2.0,\n          48.0\n        ],\n        \"semantic_type\": \"\",\n        \"description\": \"\"\n      }\n    },\n    {\n      \"column\": \"\\u72ac\",\n      \"properties\": {\n        \"dtype\": \"number\",\n        \"std\": 235.5718574023646,\n        \"min\": 0.0,\n        \"max\": 759.0,\n        \"num_unique_values\": 8,\n        \"samples\": [\n          3.0,\n          759.0,\n          1.0\n        ],\n        \"semantic_type\": \"\",\n        \"description\": \"\"\n      }\n    },\n    {\n      \"column\": \"\\u30ab\\u30a8\\u30eb\",\n      \"properties\": {\n        \"dtype\": \"number\",\n        \"std\": 281.86395457541016,\n        \"min\": 2.0,\n        \"max\": 911.0,\n        \"num_unique_values\": 10,\n        \"samples\": [\n          5.0,\n          2.0,\n          29.0\n        ],\n        \"semantic_type\": \"\",\n        \"description\": \"\"\n      }\n    },\n    {\n      \"column\": \"\\u99ac\",\n      \"properties\": {\n        \"dtype\": \"number\",\n        \"std\": 275.89539080359185,\n        \"min\": 0.0,\n        \"max\": 886.0,\n        \"num_unique_values\": 9,\n        \"samples\": [\n          0.0,\n          1.0,\n          5.0\n        ],\n        \"semantic_type\": \"\",\n        \"description\": \"\"\n      }\n    },\n    {\n      \"column\": \"\\u8239\",\n      \"properties\": {\n        \"dtype\": \"number\",\n        \"std\": 286.3580509315799,\n        \"min\": 2.0,\n        \"max\": 914.0,\n        \"num_unique_values\": 7,\n        \"samples\": [\n          39.0,\n          7.0,\n          914.0\n        ],\n        \"semantic_type\": \"\",\n        \"description\": \"\"\n      }\n    },\n    {\n      \"column\": \"\\u30c8\\u30e9\\u30c3\\u30af\",\n      \"properties\": {\n        \"dtype\": \"number\",\n        \"std\": 286.34526556433775,\n        \"min\": 1.0,\n        \"max\": 923.0,\n        \"num_unique_values\": 10,\n        \"samples\": [\n          26.0,\n          57.0,\n          9.0\n        ],\n        \"semantic_type\": \"\",\n        \"description\": \"\"\n      }\n    }\n  ]\n}"
            }
          },
          "metadata": {},
          "execution_count": 70
        }
      ]
    },
    {
      "cell_type": "code",
      "source": [
        "!pip install japanize_matplotlib"
      ],
      "metadata": {
        "id": "MXFI0BcupfFV"
      },
      "execution_count": null,
      "outputs": []
    },
    {
      "cell_type": "code",
      "source": [
        "import japanize_matplotlib"
      ],
      "metadata": {
        "id": "y9ZIMGCCp0Yf"
      },
      "execution_count": null,
      "outputs": []
    },
    {
      "cell_type": "code",
      "source": [
        "plt.figure(figsize = (12,9))\n",
        "plt.xlabel(\"pred\")\n",
        "plt.ylabel(\"true\")\n",
        "sns.heatmap(df, annot=True, cmap=\"hot\",fmt='.0f')\n",
        "\n",
        "plt.show()"
      ],
      "metadata": {
        "colab": {
          "base_uri": "https://localhost:8080/",
          "height": 752
        },
        "id": "_WfXZjp3lFtk",
        "outputId": "a17f7a0f-5ea2-4309-b16d-fd34a8f71a6f"
      },
      "execution_count": null,
      "outputs": [
        {
          "output_type": "display_data",
          "data": {
            "text/plain": [
              "<Figure size 1200x900 with 2 Axes>"
            ],
            "image/png": "[encoded data removed]"
          },
          "metadata": {}
        }
      ]
    }
  ],
  "metadata": {
    "kernelspec": {
      "display_name": "Python 3",
      "name": "python3"
    },
    "language_info": {
      "codemirror_mode": {
        "name": "ipython",
        "version": 3
      },
      "file_extension": ".py",
      "mimetype": "text/x-python",
      "name": "python",
      "nbconvert_exporter": "python",
      "pygments_lexer": "ipython3",
      "version": "3.12.2"
    },
    "colab": {
      "provenance": [],
      "toc_visible": true,
      "gpuType": "T4",
      "include_colab_link": true
    },
    "accelerator": "GPU"
  },
  "nbformat": 4,
  "nbformat_minor": 0
}